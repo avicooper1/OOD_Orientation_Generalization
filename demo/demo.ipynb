{
  "cells": [
    {
      "cell_type": "markdown",
      "metadata": {
        "id": "view-in-github",
        "colab_type": "text"
      },
      "source": [
        "<a href=\"https://colab.research.google.com/github/avicooper1/OOD_Orientation_Generalization/blob/master/demo/demo.ipynb\" target=\"_parent\"><img src=\"https://colab.research.google.com/assets/colab-badge.svg\" alt=\"Open In Colab\"/></a>"
      ]
    },
    {
      "cell_type": "code",
      "source": [
        "! git clone https://TOKEN@github.com/avicooper1/OOD_Orientation_Generalization.git"
      ],
      "metadata": {
        "id": "c_N3RAeCF35G",
        "outputId": "722f2a3a-fb72-4d58-d244-3ad124824e77",
        "colab": {
          "base_uri": "https://localhost:8080/"
        }
      },
      "execution_count": 7,
      "outputs": [
        {
          "output_type": "stream",
          "name": "stdout",
          "text": [
            "fatal: destination path 'OOD_Orientation_Generalization' already exists and is not an empty directory.\n"
          ]
        }
      ]
    },
    {
      "cell_type": "code",
      "source": [
        "! pip install ipympl"
      ],
      "metadata": {
        "id": "wuDRwz4lGW30",
        "outputId": "dd11cdc7-5d43-4fdc-e620-9eb8a9e69991",
        "colab": {
          "base_uri": "https://localhost:8080/"
        }
      },
      "execution_count": 5,
      "outputs": [
        {
          "output_type": "stream",
          "name": "stdout",
          "text": [
            "Collecting ipympl\n",
            "  Downloading ipympl-0.8.4-py2.py3-none-any.whl (507 kB)\n",
            "\u001b[K     |████████████████████████████████| 507 kB 4.3 MB/s \n",
            "\u001b[?25hRequirement already satisfied: ipywidgets>=7.6.0 in /usr/local/lib/python3.7/dist-packages (from ipympl) (7.6.5)\n",
            "Requirement already satisfied: matplotlib>=2.0.0 in /usr/local/lib/python3.7/dist-packages (from ipympl) (3.2.2)\n",
            "Requirement already satisfied: ipykernel>=4.7 in /usr/local/lib/python3.7/dist-packages (from ipympl) (4.10.1)\n",
            "Requirement already satisfied: jupyter-client in /usr/local/lib/python3.7/dist-packages (from ipykernel>=4.7->ipympl) (5.3.5)\n",
            "Requirement already satisfied: tornado>=4.0 in /usr/local/lib/python3.7/dist-packages (from ipykernel>=4.7->ipympl) (5.1.1)\n",
            "Requirement already satisfied: traitlets>=4.1.0 in /usr/local/lib/python3.7/dist-packages (from ipykernel>=4.7->ipympl) (5.1.1)\n",
            "Requirement already satisfied: ipython>=4.0.0 in /usr/local/lib/python3.7/dist-packages (from ipykernel>=4.7->ipympl) (5.5.0)\n",
            "Requirement already satisfied: pygments in /usr/local/lib/python3.7/dist-packages (from ipython>=4.0.0->ipykernel>=4.7->ipympl) (2.6.1)\n",
            "Requirement already satisfied: decorator in /usr/local/lib/python3.7/dist-packages (from ipython>=4.0.0->ipykernel>=4.7->ipympl) (4.4.2)\n",
            "Requirement already satisfied: setuptools>=18.5 in /usr/local/lib/python3.7/dist-packages (from ipython>=4.0.0->ipykernel>=4.7->ipympl) (57.4.0)\n",
            "Requirement already satisfied: prompt-toolkit<2.0.0,>=1.0.4 in /usr/local/lib/python3.7/dist-packages (from ipython>=4.0.0->ipykernel>=4.7->ipympl) (1.0.18)\n",
            "Requirement already satisfied: simplegeneric>0.8 in /usr/local/lib/python3.7/dist-packages (from ipython>=4.0.0->ipykernel>=4.7->ipympl) (0.8.1)\n",
            "Requirement already satisfied: pickleshare in /usr/local/lib/python3.7/dist-packages (from ipython>=4.0.0->ipykernel>=4.7->ipympl) (0.7.5)\n",
            "Requirement already satisfied: pexpect in /usr/local/lib/python3.7/dist-packages (from ipython>=4.0.0->ipykernel>=4.7->ipympl) (4.8.0)\n",
            "Requirement already satisfied: jupyterlab-widgets>=1.0.0 in /usr/local/lib/python3.7/dist-packages (from ipywidgets>=7.6.0->ipympl) (1.0.2)\n",
            "Requirement already satisfied: ipython-genutils~=0.2.0 in /usr/local/lib/python3.7/dist-packages (from ipywidgets>=7.6.0->ipympl) (0.2.0)\n",
            "Requirement already satisfied: widgetsnbextension~=3.5.0 in /usr/local/lib/python3.7/dist-packages (from ipywidgets>=7.6.0->ipympl) (3.5.2)\n",
            "Requirement already satisfied: nbformat>=4.2.0 in /usr/local/lib/python3.7/dist-packages (from ipywidgets>=7.6.0->ipympl) (5.1.3)\n",
            "Requirement already satisfied: kiwisolver>=1.0.1 in /usr/local/lib/python3.7/dist-packages (from matplotlib>=2.0.0->ipympl) (1.3.2)\n",
            "Requirement already satisfied: cycler>=0.10 in /usr/local/lib/python3.7/dist-packages (from matplotlib>=2.0.0->ipympl) (0.11.0)\n",
            "Requirement already satisfied: numpy>=1.11 in /usr/local/lib/python3.7/dist-packages (from matplotlib>=2.0.0->ipympl) (1.19.5)\n",
            "Requirement already satisfied: python-dateutil>=2.1 in /usr/local/lib/python3.7/dist-packages (from matplotlib>=2.0.0->ipympl) (2.8.2)\n",
            "Requirement already satisfied: pyparsing!=2.0.4,!=2.1.2,!=2.1.6,>=2.0.1 in /usr/local/lib/python3.7/dist-packages (from matplotlib>=2.0.0->ipympl) (3.0.6)\n",
            "Requirement already satisfied: jsonschema!=2.5.0,>=2.4 in /usr/local/lib/python3.7/dist-packages (from nbformat>=4.2.0->ipywidgets>=7.6.0->ipympl) (2.6.0)\n",
            "Requirement already satisfied: jupyter-core in /usr/local/lib/python3.7/dist-packages (from nbformat>=4.2.0->ipywidgets>=7.6.0->ipympl) (4.9.1)\n",
            "Requirement already satisfied: wcwidth in /usr/local/lib/python3.7/dist-packages (from prompt-toolkit<2.0.0,>=1.0.4->ipython>=4.0.0->ipykernel>=4.7->ipympl) (0.2.5)\n",
            "Requirement already satisfied: six>=1.9.0 in /usr/local/lib/python3.7/dist-packages (from prompt-toolkit<2.0.0,>=1.0.4->ipython>=4.0.0->ipykernel>=4.7->ipympl) (1.15.0)\n",
            "Requirement already satisfied: notebook>=4.4.1 in /usr/local/lib/python3.7/dist-packages (from widgetsnbextension~=3.5.0->ipywidgets>=7.6.0->ipympl) (5.3.1)\n",
            "Requirement already satisfied: Send2Trash in /usr/local/lib/python3.7/dist-packages (from notebook>=4.4.1->widgetsnbextension~=3.5.0->ipywidgets>=7.6.0->ipympl) (1.8.0)\n",
            "Requirement already satisfied: terminado>=0.8.1 in /usr/local/lib/python3.7/dist-packages (from notebook>=4.4.1->widgetsnbextension~=3.5.0->ipywidgets>=7.6.0->ipympl) (0.12.1)\n",
            "Requirement already satisfied: nbconvert in /usr/local/lib/python3.7/dist-packages (from notebook>=4.4.1->widgetsnbextension~=3.5.0->ipywidgets>=7.6.0->ipympl) (5.6.1)\n",
            "Requirement already satisfied: jinja2 in /usr/local/lib/python3.7/dist-packages (from notebook>=4.4.1->widgetsnbextension~=3.5.0->ipywidgets>=7.6.0->ipympl) (2.11.3)\n",
            "Requirement already satisfied: pyzmq>=13 in /usr/local/lib/python3.7/dist-packages (from jupyter-client->ipykernel>=4.7->ipympl) (22.3.0)\n",
            "Requirement already satisfied: ptyprocess in /usr/local/lib/python3.7/dist-packages (from terminado>=0.8.1->notebook>=4.4.1->widgetsnbextension~=3.5.0->ipywidgets>=7.6.0->ipympl) (0.7.0)\n",
            "Requirement already satisfied: MarkupSafe>=0.23 in /usr/local/lib/python3.7/dist-packages (from jinja2->notebook>=4.4.1->widgetsnbextension~=3.5.0->ipywidgets>=7.6.0->ipympl) (2.0.1)\n",
            "Requirement already satisfied: entrypoints>=0.2.2 in /usr/local/lib/python3.7/dist-packages (from nbconvert->notebook>=4.4.1->widgetsnbextension~=3.5.0->ipywidgets>=7.6.0->ipympl) (0.3)\n",
            "Requirement already satisfied: testpath in /usr/local/lib/python3.7/dist-packages (from nbconvert->notebook>=4.4.1->widgetsnbextension~=3.5.0->ipywidgets>=7.6.0->ipympl) (0.5.0)\n",
            "Requirement already satisfied: bleach in /usr/local/lib/python3.7/dist-packages (from nbconvert->notebook>=4.4.1->widgetsnbextension~=3.5.0->ipywidgets>=7.6.0->ipympl) (4.1.0)\n",
            "Requirement already satisfied: mistune<2,>=0.8.1 in /usr/local/lib/python3.7/dist-packages (from nbconvert->notebook>=4.4.1->widgetsnbextension~=3.5.0->ipywidgets>=7.6.0->ipympl) (0.8.4)\n",
            "Requirement already satisfied: pandocfilters>=1.4.1 in /usr/local/lib/python3.7/dist-packages (from nbconvert->notebook>=4.4.1->widgetsnbextension~=3.5.0->ipywidgets>=7.6.0->ipympl) (1.5.0)\n",
            "Requirement already satisfied: defusedxml in /usr/local/lib/python3.7/dist-packages (from nbconvert->notebook>=4.4.1->widgetsnbextension~=3.5.0->ipywidgets>=7.6.0->ipympl) (0.7.1)\n",
            "Requirement already satisfied: packaging in /usr/local/lib/python3.7/dist-packages (from bleach->nbconvert->notebook>=4.4.1->widgetsnbextension~=3.5.0->ipywidgets>=7.6.0->ipympl) (21.3)\n",
            "Requirement already satisfied: webencodings in /usr/local/lib/python3.7/dist-packages (from bleach->nbconvert->notebook>=4.4.1->widgetsnbextension~=3.5.0->ipywidgets>=7.6.0->ipympl) (0.5.1)\n",
            "Installing collected packages: ipympl\n",
            "Successfully installed ipympl-0.8.4\n"
          ]
        }
      ]
    },
    {
      "cell_type": "code",
      "execution_count": 24,
      "metadata": {
        "id": "SjRpj755FsrN"
      },
      "outputs": [],
      "source": [
        "from google.colab import output\n",
        "output.enable_custom_widget_manager()\n",
        "%matplotlib widget\n",
        "import matplotlib.pyplot as plt\n",
        "import ipywidgets as widgets\n",
        "from ipywidgets import interact\n",
        "import sys\n",
        "sys.path.append(\"OOD_Orientation_Generalization/\")\n",
        "from tools import *"
      ]
    },
    {
      "cell_type": "code",
      "execution_count": 11,
      "metadata": {
        "id": "by3MUl7-FsrS"
      },
      "outputs": [],
      "source": [
        "current_cmap = plt.cm.get_cmap()\n",
        "current_cmap.set_bad(color='gray')\n",
        "\n",
        "def show(arr, remove_axes=True, vmin=0, vmax=1):\n",
        "    plt.close('all')\n",
        "    img = plt.imshow(arr, vmin=vmin, vmax=vmax)\n",
        "    if remove_axes:\n",
        "        plt.axis('off')\n",
        "    return img"
      ]
    },
    {
      "cell_type": "code",
      "execution_count": 15,
      "metadata": {
        "id": "F1MQUKuPFsrT"
      },
      "outputs": [],
      "source": [
        "def compute_cubelet(frame):\n",
        "    return np.mean(frame.correct), len(frame)\n",
        "\n",
        "def generate_prediction_heatmap(exp_num, data_div, num_cubelets=20):\n",
        "    dim0s, dim1s, dim2s = get_heatmap_cell_ranges(num_cubelets, num_cubelets)\n",
        "    \n",
        "    d = pd.read_csv(f'OOD_Orientation_Generalization/demo/exps/exp{exp_num}/Div{data_div}.gzip', compression='gzip')\n",
        "    \n",
        "    heatmap = np.empty(num_cubelets ** 3)\n",
        "    heatmap[:] = np.nan\n",
        "    \n",
        "    groups = d.groupby([pd.cut(d.object_x, dim0s), pd.cut(d.object_y, dim1s), pd.cut(d.object_z, dim2s)])\n",
        "    groups_count = groups.ngroups\n",
        "    \n",
        "    for i, group in tqdm.tqdm(enumerate(groups), total=groups_count, position=0, leave=True):\n",
        "        heatmap[i], _ = compute_cubelet(group[1])\n",
        "    \n",
        "    heatmap = heatmap.reshape((num_cubelets, num_cubelets, num_cubelets))\n",
        "    \n",
        "    heatmap = np.moveaxis(heatmap, 2, 0)\n",
        "    \n",
        "    return heatmap"
      ]
    },
    {
      "cell_type": "code",
      "execution_count": 16,
      "metadata": {
        "id": "usMNLV60FsrU",
        "outputId": "cd3991d5-35e8-4656-cc5a-bdcbaaa47f46",
        "colab": {
          "base_uri": "https://localhost:8080/"
        }
      },
      "outputs": [
        {
          "output_type": "stream",
          "name": "stderr",
          "text": [
            "100%|██████████| 7977/7977 [00:02<00:00, 3188.26it/s]\n"
          ]
        }
      ],
      "source": [
        "b = generate_prediction_heatmap(0, 40)"
      ]
    },
    {
      "cell_type": "code",
      "execution_count": 29,
      "metadata": {
        "id": "Q1U235PuFsrV",
        "outputId": "9a2ecd74-a33a-4458-dd92-c2baa931d7c6",
        "colab": {
          "base_uri": "https://localhost:8080/",
          "height": 426,
          "referenced_widgets": [
            "0ae735fc349049baaa556186398de84b",
            "0e337320d7e34fafb65feed3444f69f4",
            "bf25315b9c6a443cbb1dae261fd5e83e",
            "b81e4633c3f340dab95fd33a79c83933",
            "1a2b53c60e9d452b90cbd05195576177",
            "955c8fce32154695a48fba296e336e0a",
            "6a7d13858c284445a48fcc6daae9e22f",
            "bd697a10a4b24626b2ec3e6f44470fac",
            "b4ddc2dce5ec41b097f5765159117635",
            "049a4ee5f6134cafa1dbcdd3deafab74",
            "490f0602b9a94016b5cf9142e105c5d0"
          ]
        }
      },
      "outputs": [
        {
          "output_type": "display_data",
          "data": {
            "application/vnd.jupyter.widget-view+json": {
              "model_id": "0ae735fc349049baaa556186398de84b",
              "version_minor": 0,
              "version_major": 2
            },
            "text/plain": [
              "interactive(children=(IntSlider(value=0, description='alpha', max=19), Output()), _dom_classes=('widget-intera…"
            ]
          },
          "metadata": {
            "application/vnd.jupyter.widget-view+json": {
              "colab": {
                "custom_widget_manager": {
                  "url": "https://ssl.gstatic.com/colaboratory-static/widgets/colab-cdn-widget-manager/a8874ba6619b6106/manager.min.js"
                }
              }
            }
          }
        },
        {
          "output_type": "display_data",
          "data": {
            "image/png": "[encoded data removed]",
            "application/vnd.jupyter.widget-view+json": {
              "model_id": "bd697a10a4b24626b2ec3e6f44470fac",
              "version_minor": 0,
              "version_major": 2
            },
            "text/html": [
              "\n",
              "            <div style=\"display: inline-block;\">\n",
              "                <div class=\"jupyter-widgets widget-label\" style=\"text-align: center;\">\n",
              "                    Figure\n",
              "                </div>\n",
              "                <img src='data:image/png;base64,iVBORw0KGgoAAAANSUhEUgAAAbAAAAEgCAYAAADVKCZpAAAABHNCSVQICAgIfAhkiAAAAAlwSFlzAAALEgAACxIB0t1+/AAAADh0RVh0U29mdHdhcmUAbWF0cGxvdGxpYiB2ZXJzaW9uMy4yLjIsIGh0dHA6Ly9tYXRwbG90bGliLm9yZy+WH4yJAAAKJElEQVR4nO3c76/WdR3H8e+BwyGOdOLQAXVuDgVDYCELzzhYOjS1nDVly/BGW6uVZZumzuWNtmTdaa45yhvl3FqtH7acDFpby+ZycyrHuZIwRBiQPxEVBQUP6flx9S+8r8MuznkdH4/br339cK7LPa/vnU9Xq9VqNQAQZtZUHwAAJkPAAIgkYABEEjAAIgkYAJEEDIBIAgZAJAEDIJKAARBJwACIJGAARBIwACIJGACRBAyASAIGQCQBAyCSgAEQScAAiCRgAEQSMAAiCRgAkQQMgEgCBkAkAQMgkoABEEnAAIgkYABEEjAAIgkYAJEEDIBIAgZAJAEDIJKAARBJwACI1D3VB+DUrfvaveXthbfuLm/337OyvH3turHydvnPTpZ2r3xhQfmZgxufK28PDR0vbw8+uKa8vfWix8rb7bdcWd72vFP7ezVN0+z7el95O+9w/ffr3KOt0u6D/q7yMyd6ytNm3bX1z7ed7+3Iovrf4Nn77yhvOT28gQEQScAAiCRgAEQSMAAiCRgAkQQMgEgCBkAkAQMgkoABEMlNHDPAm4P1beudM8vbhbuPlLfL/zu3vD10ee2GjXPuear+zHvK0+ZLu4+Wt7f0/6a8Xbv55vL2g8H6jRVNU//bLru9/jcb3Dle3m7/46Wl3ciKD8rPbEc7t6eM/vXt8vbY3oHJHIdpwhsYAJEEDIBIAgZAJAEDIJKAARBJwACIJGAARBIwACIJGACRBAyASF2tVqs11Yfg1Fw164by9rW7Lilv+/fVrxrq3fZ0edsMrS7NxnrnlB/Z/Y9/1v/7tG3ic2tKu7H59c9s1ocT5e2Jc3rK2wW/21HejmxcV94+ufXO8pbTwxsYAJEEDIBIAgZAJAEDIJKAARBJwACIJGAARBIwACIJGACRBAyASN1TfQBO3f4tQ+Xtsj+dKG+PrD6jvO0tL5umGd5VmvlyTh+znthZ2tUvfGrPguL1Y03TNGNXrC1vl931/GSOwzThDQyASAIGQCQBAyCSgAEQScAAiCRgAEQSMAAiCRgAkQQMgEgCBkAkt/V81BSvcWqaphkY7uA5oB1tfG+bNq6SIps3MAAiCRgAkQQMgEgCBkAkAQMgkoABEEnAAIgkYABEEjAAIrmJYwY495HxqT4CTBvdI6Pl7Qv3rao/+PeTOAwd5Q0MgEgCBkAkAQMgkoABEEnAAIgkYABEEjAAIgkYAJEEDIBIAgZAJFdJzQD/Wzi7vO3p4DlgOti/qbe8nXfYb/hkPj0AIgkYAJEEDIBIAgZAJAEDIJKAARBJwACIJGAARBIwACIJGACRXCU1A/T/+2h5++5Xh8rb+Q8NT+Y4M0r3+UvK27GDL5a3s1ctrx9idKw8Hd93oLydtWZleTux8/nSrp1/1/juveVtOxbs6Spv39sw0pEzcHp4AwMgkoABEEnAAIgkYABEEjAAIgkYAJEEDIBIAgZAJAEDIJKAARDJVVIzwBufXVjeDjywo7zdv6V+7dSSv4yWt8eW9ZR2759TvxJotG+ivL37mofL283Da8vb2wefLW//8NJ4ebti4Zvl7a/P3Vne3vZ6/X//Rx+6pLQ7eVb9c2ia+vfrwKb7y9tvvPzx8vaF+1aVt82N9SmnhzcwACIJGACRBAyASAIGQCQBAyCSgAEQScAAiCRgAEQSMAAiCRgAkbparVZrqg/Bqbnw7i3lbd/6+rVEx55ZXN6OXzBS3v50sHaV0/VnnCg/k8667fWLS7t3R+eVn/n4jvo1TvMO139rT9RuKmuapmlGV9S/twdu/GH9wZwW3sAAiCRgAEQSMAAiCRgAkQQMgEgCBkAkAQMgkoABEEnAAIgkYABE6p7qA3Dq1l37XHl7aOh4eTt606Lyds5g/dqnO57cVNpdf/Wvys+ks4bfWFLajW6vf2cu++Z/yttntn26vJ3Txg1kJ4/PqY+ZdryBARBJwACIJGAARBIwACIJGACRBAyASAIGQCQBAyCSgAEQScAAiOQqqRng0PufaGNdv0pqYNf75e3IW58sb897d6y0u/TP3yk/89s/2VrePnZsRXn7xMGl5W3P3NHy9mOP9JW37Rh4YEd5e+Sm9eXt2Bldpd3IhpHyMx/fsaq8XfzKRHk7cmb9d/mGi14ob5l+vIEBEEnAAIgkYABEEjAAIgkYAJEEDIBIAgZAJAEDIJKAARBJwACI1NVqtVpTfQhOzXk/v7cjz138TH3b9+BwR84QZWh1fTu8qzz98IuD5W3P39r40NowsnFdade77enyM2evWl7eju/eW95Wz9quJ7fe2ZHnMnnewACIJGAARBIwACIJGACRBAyASAIGQCQBAyCSgAEQScAAiCRgAERyldQMcNWsG6b6CBDp1a2ryts9Gzd37iBMijcwACIJGACRBAyASAIGQCQBAyCSgAEQScAAiCRgAEQSMAAiCRgAkbqn+gCcXt3nLylvxxb31R88vKv9w0AH7N8yVB+/3Llz0HnewACIJGAARBIwACIJGACRBAyASAIGQCQBAyCSgAEQScAAiOQmjo8Yt2swXcxas7K87RodL29b/aPl7Xm/LU+b5vttbDktvIEBEEnAAIgkYABEEjAAIgkYAJEEDIBIAgZAJAEDIJKAARBJwACI5CqpGeDITevL24EHdnTwJFB3bGX9WrOTA/Xf2gev/kV5u/Tod8tbph9vYABEEjAAIgkYAJEEDIBIAgZAJAEDIJKAARBJwACIJGAARBIwACK5SmoG6H1roryd/aml5e34vgOTOc70N7S6vh3e1blzFHXqM5u9anl5+/ZnFpZ2PSfq38W+B4fL294r1pa3azffXN7O6+8qb5l+vIEBEEnAAIgkYABEEjAAIgkYAJEEDIBIAgZAJAEDIJKAARBJwACI5CqpGWBkUf13yMiGxeXtyU1nlrd9698sb9/aO1DazX+5/u86a8tT5e1L18wvbxedva687d32dHk7srH+3HaMXbyovG3nKqcj3xoq7RbsqX9mveVl07z45Tnlbav/w/K262j9uUw/3sAAiCRgAEQSMAAiCRgAkQQMgEgCBkAkAQMgkoABEEnAAIgkYABEcpXUDHDN954obx89tLy8fe9Y/cql4TUPl7dDzVdKuysv31t+5r/+vrK8Hb9gpLw9dH5Xedu6bm1527tndnl78qyJ8vay9bvL28t/9Gp5+8sf13af/0H9u7i9/9Lydt7h8rSZu6envL3+7OP1BzPteAMDIJKAARBJwACIJGAARBIwACIJGACRBAyASAIGQCQBAyCSgAEQqavVarWm+hAA0C5vYABEEjAAIgkYAJEEDIBIAgZAJAEDIJKAARBJwACIJGAARBIwACIJGACRBAyASAIGQCQBAyCSgAEQScAAiCRgAEQSMAAiCRgAkQQMgEgCBkAkAQMgkoABEEnAAIgkYABEEjAAIgkYAJEEDIBIAgZAJAEDIJKAARBJwACIJGAARBIwACIJGACR/g8TyGnlIhljBAAAAABJRU5ErkJggg==' width=432.0/>\n",
              "            </div>\n",
              "        "
            ],
            "text/plain": [
              "Canvas(toolbar=Toolbar(toolitems=[('Home', 'Reset original view', 'home', 'home'), ('Back', 'Back to previous …"
            ]
          },
          "metadata": {
            "application/vnd.jupyter.widget-view+json": {
              "colab": {
                "custom_widget_manager": {
                  "url": "https://ssl.gstatic.com/colaboratory-static/widgets/colab-cdn-widget-manager/a8874ba6619b6106/manager.min.js"
                }
              }
            }
          }
        },
        {
          "output_type": "stream",
          "name": "stderr",
          "text": [
            "Unhandled message type set_device_pixel_ratio. {'type': 'set_device_pixel_ratio', 'device_pixel_ratio': 2}\n"
          ]
        }
      ],
      "source": [
        "img = show(b[0])\n",
        "@interact(alpha=widgets.IntSlider(value=0, min=0, max=19))\n",
        "def update(alpha):\n",
        "  img.set_data(b[alpha])\n",
        "  plt.draw()"
      ]
    },
    {
      "cell_type": "code",
      "source": [
        "show(b[12])"
      ],
      "metadata": {
        "id": "bBmfTi_5KN_g",
        "outputId": "d7b90ae0-d251-47c2-a88e-085265739bf3",
        "colab": {
          "base_uri": "https://localhost:8080/",
          "height": 411,
          "referenced_widgets": [
            "d08d8c61097248ceb1d439770637173f",
            "72c26f59788e4151a236be0279f55857",
            "95e84169183144dba9080e8c61e24583",
            "ace164c4298f4f42b3b3db0c0d7b370a"
          ]
        }
      },
      "execution_count": 30,
      "outputs": [
        {
          "output_type": "execute_result",
          "data": {
            "text/plain": [
              "<matplotlib.image.AxesImage at 0x7f448eaae850>"
            ]
          },
          "metadata": {},
          "execution_count": 30
        },
        {
          "output_type": "display_data",
          "data": {
            "image/png": "[encoded data removed]",
            "application/vnd.jupyter.widget-view+json": {
              "model_id": "d08d8c61097248ceb1d439770637173f",
              "version_minor": 0,
              "version_major": 2
            },
            "text/html": [
              "\n",
              "            <div style=\"display: inline-block;\">\n",
              "                <div class=\"jupyter-widgets widget-label\" style=\"text-align: center;\">\n",
              "                    Figure\n",
              "                </div>\n",
              "                <img src='data:image/png;base64,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' width=432.0/>\n",
              "            </div>\n",
              "        "
            ],
            "text/plain": [
              "Canvas(toolbar=Toolbar(toolitems=[('Home', 'Reset original view', 'home', 'home'), ('Back', 'Back to previous …"
            ]
          },
          "metadata": {
            "application/vnd.jupyter.widget-view+json": {
              "colab": {
                "custom_widget_manager": {
                  "url": "https://ssl.gstatic.com/colaboratory-static/widgets/colab-cdn-widget-manager/a8874ba6619b6106/manager.min.js"
                }
              }
            }
          }
        },
        {
          "output_type": "stream",
          "name": "stderr",
          "text": [
            "Unhandled message type set_device_pixel_ratio. {'type': 'set_device_pixel_ratio', 'device_pixel_ratio': 2}\n"
          ]
        }
      ]
    },
    {
      "cell_type": "code",
      "execution_count": null,
      "metadata": {
        "id": "7uOkFe7-FsrV"
      },
      "outputs": [],
      "source": [
        "dim0s, dim1s, dim2s = get_heatmap_cell_ranges(20, 20)"
      ]
    },
    {
      "cell_type": "code",
      "execution_count": null,
      "metadata": {
        "id": "9vkzsUSGFsrW"
      },
      "outputs": [],
      "source": [
        "def get_midpoints(dim):\n",
        "    return dim[:-1] + ((dim[1:] - dim[:-1]) / 2)"
      ]
    },
    {
      "cell_type": "code",
      "execution_count": null,
      "metadata": {
        "id": "SVI_D-o7FsrW"
      },
      "outputs": [],
      "source": [
        "def cartesian_product(*arrays):\n",
        "    la = len(arrays)\n",
        "    dtype = np.result_type(*arrays)\n",
        "    arr = np.empty([len(a) for a in arrays] + [la], dtype=dtype)\n",
        "    for i, a in enumerate(np.ix_(*arrays)):\n",
        "        arr[...,i] = a\n",
        "    return arr.reshape(-1, la)"
      ]
    },
    {
      "cell_type": "code",
      "execution_count": null,
      "metadata": {
        "id": "CYhnXu1yFsrW"
      },
      "outputs": [],
      "source": [
        "a = cartesian_product(get_midpoints(dim0s), get_midpoints(dim1s), get_midpoints(dim2s))"
      ]
    },
    {
      "cell_type": "code",
      "execution_count": null,
      "metadata": {
        "id": "xl0It3OKFsrX"
      },
      "outputs": [],
      "source": [
        "bin_rotations = np.array([[0,0],[-0.2,-0.2],[-0.2,0.2],[0.2,-0.2],[0.2,0.2]])"
      ]
    },
    {
      "cell_type": "code",
      "execution_count": null,
      "metadata": {
        "id": "T2X5zn68FsrX"
      },
      "outputs": [],
      "source": [
        "def twod_alignment(v1, v2):\n",
        "    r1 = R.from_euler('zyx', v1[:, -1::-1])\n",
        "    r2 = R.from_euler('zyx', v2[-1::-1])\n",
        "\n",
        "    r3 = r2*r1.inv()\n",
        "    a = r3.as_matrix()\n",
        "\n",
        "    \n",
        "    val, v = np.linalg.eig(a)\n",
        "    idx = np.argwhere(np.round(val, 6) == 1)\n",
        "    ax = v[idx[:,0], :, idx[:,1]]\n",
        "    \n",
        "    return np.abs(np.pi-np.arccos(np.round((a.trace(axis1=1, axis2=2) - 1) / 2, 6)))/np.pi, np.abs(ax[...,1])"
      ]
    },
    {
      "cell_type": "code",
      "execution_count": null,
      "metadata": {
        "id": "wTFTRVz7FsrX"
      },
      "outputs": [],
      "source": [
        "heatmap = np.zeros(20 ** 3)\n",
        "for i, ai in tqdm.tqdm(enumerate(a)):\n",
        "    heatmap[i], _ = np.max(twod_alignment(bin_rotations, ai), axis=1)"
      ]
    },
    {
      "cell_type": "code",
      "execution_count": null,
      "metadata": {
        "id": "yEkPJMYRFsrY"
      },
      "outputs": [],
      "source": [
        "heatmap = heatmap.reshape(20, 20, 20)"
      ]
    },
    {
      "cell_type": "code",
      "execution_count": null,
      "metadata": {
        "id": "f1PNoEWCFsrY"
      },
      "outputs": [],
      "source": [
        "bin_rotations"
      ]
    },
    {
      "cell_type": "code",
      "execution_count": null,
      "metadata": {
        "id": "KoGiWyxCFsrY"
      },
      "outputs": [],
      "source": [
        "br = np.repeat(np.insert(bin_rotations, 2, None, axis=1), len(dim2s), axis=0).reshape(len(bin_rotations), len(dim2s), 3)\n",
        "br[:,:,2] = dim2s\n",
        "bin_rotations = br.reshape(-1,3)"
      ]
    },
    {
      "cell_type": "code",
      "execution_count": null,
      "metadata": {
        "id": "eXnIIlFwFsrZ"
      },
      "outputs": [],
      "source": [
        "br"
      ]
    },
    {
      "cell_type": "code",
      "execution_count": null,
      "metadata": {
        "id": "0jrIQ0OpFsrZ"
      },
      "outputs": [],
      "source": [
        ""
      ]
    }
  ],
  "metadata": {
    "kernelspec": {
      "display_name": "Python 3",
      "language": "python",
      "name": "python3"
    },
    "language_info": {
      "codemirror_mode": {
        "name": "ipython",
        "version": 3
      },
      "file_extension": ".py",
      "mimetype": "text/x-python",
      "name": "python",
      "nbconvert_exporter": "python",
      "pygments_lexer": "ipython3",
      "version": "3.7.4"
    },
    "colab": {
      "name": "demo.ipynb",
      "provenance": [],
      "include_colab_link": true
    },
    "widgets": {
      "application/vnd.jupyter.widget-state+json": {
        "0ae735fc349049baaa556186398de84b": {
          "model_module": "@jupyter-widgets/controls",
          "model_name": "VBoxModel",
          "model_module_version": "1.5.0",
          "state": {
            "_view_name": "VBoxView",
            "_dom_classes": [
              "widget-interact"
            ],
            "_model_name": "VBoxModel",
            "_view_module": "@jupyter-widgets/controls",
            "_model_module_version": "1.5.0",
            "_view_count": null,
            "_view_module_version": "1.5.0",
            "box_style": "",
            "layout": "IPY_MODEL_0e337320d7e34fafb65feed3444f69f4",
            "_model_module": "@jupyter-widgets/controls",
            "children": [
              "IPY_MODEL_bf25315b9c6a443cbb1dae261fd5e83e",
              "IPY_MODEL_b81e4633c3f340dab95fd33a79c83933"
            ]
          }
        },
        "0e337320d7e34fafb65feed3444f69f4": {
          "model_module": "@jupyter-widgets/base",
          "model_name": "LayoutModel",
          "model_module_version": "1.2.0",
          "state": {
            "_view_name": "LayoutView",
            "grid_template_rows": null,
            "right": null,
            "justify_content": null,
            "_view_module": "@jupyter-widgets/base",
            "overflow": null,
            "_model_module_version": "1.2.0",
            "_view_count": null,
            "flex_flow": null,
            "width": null,
            "min_width": null,
            "border": null,
            "align_items": null,
            "bottom": null,
            "_model_module": "@jupyter-widgets/base",
            "top": null,
            "grid_column": null,
            "overflow_y": null,
            "overflow_x": null,
            "grid_auto_flow": null,
            "grid_area": null,
            "grid_template_columns": null,
            "flex": null,
            "_model_name": "LayoutModel",
            "justify_items": null,
            "grid_row": null,
            "max_height": null,
            "align_content": null,
            "visibility": null,
            "align_self": null,
            "height": null,
            "min_height": null,
            "padding": null,
            "grid_auto_rows": null,
            "grid_gap": null,
            "max_width": null,
            "order": null,
            "_view_module_version": "1.2.0",
            "grid_template_areas": null,
            "object_position": null,
            "object_fit": null,
            "grid_auto_columns": null,
            "margin": null,
            "display": null,
            "left": null
          }
        },
        "bf25315b9c6a443cbb1dae261fd5e83e": {
          "model_module": "@jupyter-widgets/controls",
          "model_name": "IntSliderModel",
          "model_module_version": "1.5.0",
          "state": {
            "_view_name": "IntSliderView",
            "style": "IPY_MODEL_1a2b53c60e9d452b90cbd05195576177",
            "_dom_classes": [],
            "description": "alpha",
            "step": 1,
            "_model_name": "IntSliderModel",
            "orientation": "horizontal",
            "max": 19,
            "_view_module": "@jupyter-widgets/controls",
            "_model_module_version": "1.5.0",
            "value": 12,
            "_view_count": null,
            "disabled": false,
            "_view_module_version": "1.5.0",
            "min": 0,
            "continuous_update": true,
            "readout_format": "d",
            "description_tooltip": null,
            "readout": true,
            "_model_module": "@jupyter-widgets/controls",
            "layout": "IPY_MODEL_955c8fce32154695a48fba296e336e0a"
          }
        },
        "b81e4633c3f340dab95fd33a79c83933": {
          "model_module": "@jupyter-widgets/output",
          "model_name": "OutputModel",
          "model_module_version": "1.0.0",
          "state": {
            "_view_name": "OutputView",
            "msg_id": "",
            "_dom_classes": [],
            "_model_name": "OutputModel",
            "outputs": [],
            "_view_module": "@jupyter-widgets/output",
            "_model_module_version": "1.0.0",
            "_view_count": null,
            "_view_module_version": "1.0.0",
            "layout": "IPY_MODEL_6a7d13858c284445a48fcc6daae9e22f",
            "_model_module": "@jupyter-widgets/output"
          }
        },
        "1a2b53c60e9d452b90cbd05195576177": {
          "model_module": "@jupyter-widgets/controls",
          "model_name": "SliderStyleModel",
          "model_module_version": "1.5.0",
          "state": {
            "_view_name": "StyleView",
            "handle_color": null,
            "_model_name": "SliderStyleModel",
            "description_width": "",
            "_view_module": "@jupyter-widgets/base",
            "_model_module_version": "1.5.0",
            "_view_count": null,
            "_view_module_version": "1.2.0",
            "_model_module": "@jupyter-widgets/controls"
          }
        },
        "955c8fce32154695a48fba296e336e0a": {
          "model_module": "@jupyter-widgets/base",
          "model_name": "LayoutModel",
          "model_module_version": "1.2.0",
          "state": {
            "_view_name": "LayoutView",
            "grid_template_rows": null,
            "right": null,
            "justify_content": null,
            "_view_module": "@jupyter-widgets/base",
            "overflow": null,
            "_model_module_version": "1.2.0",
            "_view_count": null,
            "flex_flow": null,
            "width": null,
            "min_width": null,
            "border": null,
            "align_items": null,
            "bottom": null,
            "_model_module": "@jupyter-widgets/base",
            "top": null,
            "grid_column": null,
            "overflow_y": null,
            "overflow_x": null,
            "grid_auto_flow": null,
            "grid_area": null,
            "grid_template_columns": null,
            "flex": null,
            "_model_name": "LayoutModel",
            "justify_items": null,
            "grid_row": null,
            "max_height": null,
            "align_content": null,
            "visibility": null,
            "align_self": null,
            "height": null,
            "min_height": null,
            "padding": null,
            "grid_auto_rows": null,
            "grid_gap": null,
            "max_width": null,
            "order": null,
            "_view_module_version": "1.2.0",
            "grid_template_areas": null,
            "object_position": null,
            "object_fit": null,
            "grid_auto_columns": null,
            "margin": null,
            "display": null,
            "left": null
          }
        },
        "6a7d13858c284445a48fcc6daae9e22f": {
          "model_module": "@jupyter-widgets/base",
          "model_name": "LayoutModel",
          "model_module_version": "1.2.0",
          "state": {
            "_view_name": "LayoutView",
            "grid_template_rows": null,
            "right": null,
            "justify_content": null,
            "_view_module": "@jupyter-widgets/base",
            "overflow": null,
            "_model_module_version": "1.2.0",
            "_view_count": null,
            "flex_flow": null,
            "width": null,
            "min_width": null,
            "border": null,
            "align_items": null,
            "bottom": null,
            "_model_module": "@jupyter-widgets/base",
            "top": null,
            "grid_column": null,
            "overflow_y": null,
            "overflow_x": null,
            "grid_auto_flow": null,
            "grid_area": null,
            "grid_template_columns": null,
            "flex": null,
            "_model_name": "LayoutModel",
            "justify_items": null,
            "grid_row": null,
            "max_height": null,
            "align_content": null,
            "visibility": null,
            "align_self": null,
            "height": null,
            "min_height": null,
            "padding": null,
            "grid_auto_rows": null,
            "grid_gap": null,
            "max_width": null,
            "order": null,
            "_view_module_version": "1.2.0",
            "grid_template_areas": null,
            "object_position": null,
            "object_fit": null,
            "grid_auto_columns": null,
            "margin": null,
            "display": null,
            "left": null
          }
        },
        "bd697a10a4b24626b2ec3e6f44470fac": {
          "model_module": "jupyter-matplotlib",
          "model_name": "MPLCanvasModel",
          "model_module_version": "^0.10.4",
          "state": {
            "_view_name": "MPLCanvasView",
            "pan_zoom_throttle": 33,
            "_view_module": "jupyter-matplotlib",
            "_figure_label": "Figure 1",
            "_view_count": null,
            "_size": [
              432,
              288
            ],
            "_cursor": "default",
            "capture_scroll": false,
            "layout": "IPY_MODEL_b4ddc2dce5ec41b097f5765159117635",
            "_model_module": "jupyter-matplotlib",
            "footer_visible": true,
            "_image_mode": "full",
            "_dom_classes": [],
            "resizable": true,
            "_model_name": "MPLCanvasModel",
            "header_visible": true,
            "_model_module_version": "^0.10.4",
            "_rubberband_x": 0,
            "_rubberband_y": 0,
            "toolbar": "IPY_MODEL_049a4ee5f6134cafa1dbcdd3deafab74",
            "_data_url": "data:image/png;base64,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",
            "toolbar_visible": "fade-in-fade-out",
            "_rubberband_width": 0,
            "_message": "",
            "_rubberband_height": 0,
            "_view_module_version": "^0.10.4",
            "toolbar_position": "left"
          }
        },
        "b4ddc2dce5ec41b097f5765159117635": {
          "model_module": "@jupyter-widgets/base",
          "model_name": "LayoutModel",
          "model_module_version": "1.2.0",
          "state": {
            "_view_name": "LayoutView",
            "grid_template_rows": null,
            "right": null,
            "justify_content": null,
            "_view_module": "@jupyter-widgets/base",
            "overflow": null,
            "_model_module_version": "1.2.0",
            "_view_count": null,
            "flex_flow": null,
            "width": null,
            "min_width": null,
            "border": null,
            "align_items": null,
            "bottom": null,
            "_model_module": "@jupyter-widgets/base",
            "top": null,
            "grid_column": null,
            "overflow_y": null,
            "overflow_x": null,
            "grid_auto_flow": null,
            "grid_area": null,
            "grid_template_columns": null,
            "flex": null,
            "_model_name": "LayoutModel",
            "justify_items": null,
            "grid_row": null,
            "max_height": null,
            "align_content": null,
            "visibility": null,
            "align_self": null,
            "height": null,
            "min_height": null,
            "padding": null,
            "grid_auto_rows": null,
            "grid_gap": null,
            "max_width": null,
            "order": null,
            "_view_module_version": "1.2.0",
            "grid_template_areas": null,
            "object_position": null,
            "object_fit": null,
            "grid_auto_columns": null,
            "margin": null,
            "display": null,
            "left": null
          }
        },
        "049a4ee5f6134cafa1dbcdd3deafab74": {
          "model_module": "jupyter-matplotlib",
          "model_name": "ToolbarModel",
          "model_module_version": "^0.10.4",
          "state": {
            "_current_action": "",
            "_view_name": "ToolbarView",
            "toolitems": [
              [
                "Home",
                "Reset original view",
                "home",
                "home"
              ],
              [
                "Back",
                "Back to previous view",
                "arrow-left",
                "back"
              ],
              [
                "Forward",
                "Forward to next view",
                "arrow-right",
                "forward"
              ],
              [
                "Pan",
                "Pan axes with left mouse, zoom with right",
                "arrows",
                "pan"
              ],
              [
                "Zoom",
                "Zoom to rectangle",
                "square-o",
                "zoom"
              ],
              [
                "Download",
                "Download plot",
                "floppy-o",
                "save_figure"
              ]
            ],
            "_dom_classes": [],
            "orientation": "vertical",
            "_model_name": "ToolbarModel",
            "button_style": "",
            "_view_module": "jupyter-matplotlib",
            "_model_module_version": "^0.10.4",
            "_view_count": null,
            "_view_module_version": "^0.10.4",
            "layout": "IPY_MODEL_490f0602b9a94016b5cf9142e105c5d0",
            "_model_module": "jupyter-matplotlib",
            "collapsed": true
          }
        },
        "490f0602b9a94016b5cf9142e105c5d0": {
          "model_module": "@jupyter-widgets/base",
          "model_name": "LayoutModel",
          "model_module_version": "1.2.0",
          "state": {
            "_view_name": "LayoutView",
            "grid_template_rows": null,
            "right": null,
            "justify_content": null,
            "_view_module": "@jupyter-widgets/base",
            "overflow": null,
            "_model_module_version": "1.2.0",
            "_view_count": null,
            "flex_flow": null,
            "width": null,
            "min_width": null,
            "border": null,
            "align_items": null,
            "bottom": null,
            "_model_module": "@jupyter-widgets/base",
            "top": null,
            "grid_column": null,
            "overflow_y": null,
            "overflow_x": null,
            "grid_auto_flow": null,
            "grid_area": null,
            "grid_template_columns": null,
            "flex": null,
            "_model_name": "LayoutModel",
            "justify_items": null,
            "grid_row": null,
            "max_height": null,
            "align_content": null,
            "visibility": null,
            "align_self": null,
            "height": null,
            "min_height": null,
            "padding": null,
            "grid_auto_rows": null,
            "grid_gap": null,
            "max_width": null,
            "order": null,
            "_view_module_version": "1.2.0",
            "grid_template_areas": null,
            "object_position": null,
            "object_fit": null,
            "grid_auto_columns": null,
            "margin": null,
            "display": null,
            "left": null
          }
        },
        "d08d8c61097248ceb1d439770637173f": {
          "model_module": "jupyter-matplotlib",
          "model_name": "MPLCanvasModel",
          "model_module_version": "^0.10.4",
          "state": {
            "_view_name": "MPLCanvasView",
            "pan_zoom_throttle": 33,
            "_view_module": "jupyter-matplotlib",
            "_figure_label": "Figure 1",
            "_view_count": null,
            "_size": [
              432,
              288
            ],
            "_cursor": "default",
            "capture_scroll": false,
            "layout": "IPY_MODEL_72c26f59788e4151a236be0279f55857",
            "_model_module": "jupyter-matplotlib",
            "footer_visible": true,
            "_image_mode": "full",
            "_dom_classes": [],
            "resizable": true,
            "_model_name": "MPLCanvasModel",
            "header_visible": true,
            "_model_module_version": "^0.10.4",
            "_rubberband_x": 0,
            "_rubberband_y": 0,
            "toolbar": "IPY_MODEL_95e84169183144dba9080e8c61e24583",
            "_data_url": "data:image/png;base64,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",
            "toolbar_visible": "fade-in-fade-out",
            "_rubberband_width": 0,
            "_message": "",
            "_rubberband_height": 0,
            "_view_module_version": "^0.10.4",
            "toolbar_position": "left"
          }
        },
        "72c26f59788e4151a236be0279f55857": {
          "model_module": "@jupyter-widgets/base",
          "model_name": "LayoutModel",
          "model_module_version": "1.2.0",
          "state": {
            "_view_name": "LayoutView",
            "grid_template_rows": null,
            "right": null,
            "justify_content": null,
            "_view_module": "@jupyter-widgets/base",
            "overflow": null,
            "_model_module_version": "1.2.0",
            "_view_count": null,
            "flex_flow": null,
            "width": null,
            "min_width": null,
            "border": null,
            "align_items": null,
            "bottom": null,
            "_model_module": "@jupyter-widgets/base",
            "top": null,
            "grid_column": null,
            "overflow_y": null,
            "overflow_x": null,
            "grid_auto_flow": null,
            "grid_area": null,
            "grid_template_columns": null,
            "flex": null,
            "_model_name": "LayoutModel",
            "justify_items": null,
            "grid_row": null,
            "max_height": null,
            "align_content": null,
            "visibility": null,
            "align_self": null,
            "height": null,
            "min_height": null,
            "padding": null,
            "grid_auto_rows": null,
            "grid_gap": null,
            "max_width": null,
            "order": null,
            "_view_module_version": "1.2.0",
            "grid_template_areas": null,
            "object_position": null,
            "object_fit": null,
            "grid_auto_columns": null,
            "margin": null,
            "display": null,
            "left": null
          }
        },
        "95e84169183144dba9080e8c61e24583": {
          "model_module": "jupyter-matplotlib",
          "model_name": "ToolbarModel",
          "model_module_version": "^0.10.4",
          "state": {
            "_current_action": "",
            "_view_name": "ToolbarView",
            "toolitems": [
              [
                "Home",
                "Reset original view",
                "home",
                "home"
              ],
              [
                "Back",
                "Back to previous view",
                "arrow-left",
                "back"
              ],
              [
                "Forward",
                "Forward to next view",
                "arrow-right",
                "forward"
              ],
              [
                "Pan",
                "Pan axes with left mouse, zoom with right",
                "arrows",
                "pan"
              ],
              [
                "Zoom",
                "Zoom to rectangle",
                "square-o",
                "zoom"
              ],
              [
                "Download",
                "Download plot",
                "floppy-o",
                "save_figure"
              ]
            ],
            "_dom_classes": [],
            "orientation": "vertical",
            "_model_name": "ToolbarModel",
            "button_style": "",
            "_view_module": "jupyter-matplotlib",
            "_model_module_version": "^0.10.4",
            "_view_count": null,
            "_view_module_version": "^0.10.4",
            "layout": "IPY_MODEL_ace164c4298f4f42b3b3db0c0d7b370a",
            "_model_module": "jupyter-matplotlib",
            "collapsed": true
          }
        },
        "ace164c4298f4f42b3b3db0c0d7b370a": {
          "model_module": "@jupyter-widgets/base",
          "model_name": "LayoutModel",
          "model_module_version": "1.2.0",
          "state": {
            "_view_name": "LayoutView",
            "grid_template_rows": null,
            "right": null,
            "justify_content": null,
            "_view_module": "@jupyter-widgets/base",
            "overflow": null,
            "_model_module_version": "1.2.0",
            "_view_count": null,
            "flex_flow": null,
            "width": null,
            "min_width": null,
            "border": null,
            "align_items": null,
            "bottom": null,
            "_model_module": "@jupyter-widgets/base",
            "top": null,
            "grid_column": null,
            "overflow_y": null,
            "overflow_x": null,
            "grid_auto_flow": null,
            "grid_area": null,
            "grid_template_columns": null,
            "flex": null,
            "_model_name": "LayoutModel",
            "justify_items": null,
            "grid_row": null,
            "max_height": null,
            "align_content": null,
            "visibility": null,
            "align_self": null,
            "height": null,
            "min_height": null,
            "padding": null,
            "grid_auto_rows": null,
            "grid_gap": null,
            "max_width": null,
            "order": null,
            "_view_module_version": "1.2.0",
            "grid_template_areas": null,
            "object_position": null,
            "object_fit": null,
            "grid_auto_columns": null,
            "margin": null,
            "display": null,
            "left": null
          }
        }
      }
    }
  },
  "nbformat": 4,
  "nbformat_minor": 0
}