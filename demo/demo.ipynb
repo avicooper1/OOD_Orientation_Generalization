{
 "cells": [
  {
   "cell_type": "code",
   "execution_count": null,
   "metadata": {},
   "outputs": [],
   "source": [
    "from tools import *\n",
    "import matplotlib.pyplot as plt"
   ]
  },
  {
   "cell_type": "code",
   "execution_count": 38,
   "metadata": {},
   "outputs": [],
   "source": []
  },
  {
   "cell_type": "code",
   "execution_count": 52,
   "metadata": {},
   "outputs": [],
   "source": []
  },
  {
   "cell_type": "code",
   "execution_count": 54,
   "metadata": {},
   "outputs": [],
   "source": [
    "! tar -cf exp0/eval/Final40.tar exp0/eval/Final40.csv"
   ]
  },
  {
   "cell_type": "code",
   "execution_count": 46,
   "metadata": {},
   "outputs": [
    {
     "data": {
      "text/plain": [
       "Index       1456808\n",
       "object_x     400000\n",
       "object_y     400000\n",
       "object_z     400000\n",
       "correct       50000\n",
       "dtype: int64"
      ]
     },
     "execution_count": 46,
     "metadata": {},
     "output_type": "execute_result"
    }
   ],
   "source": [
    "final.memory_usage()"
   ]
  },
  {
   "cell_type": "code",
   "execution_count": null,
   "metadata": {},
   "outputs": [],
   "source": [
    "current_cmap = plt.cm.get_cmap()\n",
    "current_cmap.set_bad(color='gray')\n",
    "\n",
    "def show(arr, remove_axes=True, vmin=0, vmax=1):\n",
    "    plt.close('all')\n",
    "    fig = plt.imshow(arr, vmin=vmin, vmax=vmax)\n",
    "    if remove_axes:\n",
    "        plt.axis('off')"
   ]
  },
  {
   "cell_type": "code",
   "execution_count": null,
   "metadata": {},
   "outputs": [],
   "source": [
    "def compute_cubelet(frame):\n",
    "    return np.mean(frame.correct), len(frame)\n",
    "\n",
    "def generate_prediction_heatmap(exp, num_cubelets=20):\n",
    "    dim0s, dim1s, dim2s = get_heatmap_cell_ranges(num_cubelets, num_cubelets)\n",
    "    testing = pd.read_csv(f'exp0/eval/TestingFrame_Div{exp}.csv', index_col=0)\n",
    "    predictions = pd.read_csv(f'exp0/eval/Div{exp}.csv', index_col=0)\n",
    "    d = testing.merge(right=predictions[predictions.epoch == max(predictions.epoch)])\n",
    "    \n",
    "    heatmap = np.empty(num_cubelets ** 3)\n",
    "    heatmap[:] = np.nan\n",
    "    \n",
    "    groups = d.groupby([pd.cut(d.object_x, dim0s), pd.cut(d.object_y, dim1s), pd.cut(d.object_z, dim2s)])\n",
    "    groups_count = groups.ngroups\n",
    "    \n",
    "    for i, group in tqdm.tqdm(enumerate(groups), total=groups_count, position=0, leave=True):\n",
    "        heatmap[i], _ = compute_cubelet(group[1])\n",
    "    \n",
    "    heatmap = heatmap.reshape((num_cubelets, num_cubelets, num_cubelets))\n",
    "    \n",
    "    heatmap = np.moveaxis(heatmap, 2, 0)\n",
    "    \n",
    "    return heatmap"
   ]
  },
  {
   "cell_type": "code",
   "execution_count": null,
   "metadata": {},
   "outputs": [],
   "source": [
    "b = generate_prediction_heatmap(40)"
   ]
  },
  {
   "cell_type": "code",
   "execution_count": null,
   "metadata": {},
   "outputs": [],
   "source": [
    "show(b[1])"
   ]
  },
  {
   "cell_type": "code",
   "execution_count": null,
   "metadata": {},
   "outputs": [],
   "source": [
    "x = np.linspace(0, 2 * np.pi, 100)\n",
    " \n",
    "fig, ax = plt.subplots()\n",
    "line, = ax.plot(x, np.sin(x))\n",
    "ax.grid(True)\n",
    " \n",
    "def update(change):\n",
    "    print(\"asds\")\n",
    "    line.set_ydata(np.sin(change.new * x))\n",
    "    fig.canvas.draw()\n",
    "     \n",
    "int_slider = widgets.IntSlider(\n",
    "    value=1, \n",
    "    min=0, max=10, step=1,\n",
    "    description='$\\omega$',\n",
    "    continuous_update=False\n",
    ")\n",
    "int_slider.observe(update, 'value')\n",
    "int_slider"
   ]
  },
  {
   "cell_type": "code",
   "execution_count": null,
   "metadata": {},
   "outputs": [],
   "source": [
    "dim0s, dim1s, dim2s = get_heatmap_cell_ranges(20, 20)"
   ]
  },
  {
   "cell_type": "code",
   "execution_count": null,
   "metadata": {},
   "outputs": [],
   "source": [
    "def get_midpoints(dim):\n",
    "    return dim[:-1] + ((dim[1:] - dim[:-1]) / 2)"
   ]
  },
  {
   "cell_type": "code",
   "execution_count": null,
   "metadata": {},
   "outputs": [],
   "source": [
    "def cartesian_product(*arrays):\n",
    "    la = len(arrays)\n",
    "    dtype = np.result_type(*arrays)\n",
    "    arr = np.empty([len(a) for a in arrays] + [la], dtype=dtype)\n",
    "    for i, a in enumerate(np.ix_(*arrays)):\n",
    "        arr[...,i] = a\n",
    "    return arr.reshape(-1, la)"
   ]
  },
  {
   "cell_type": "code",
   "execution_count": null,
   "metadata": {},
   "outputs": [],
   "source": [
    "a = cartesian_product(get_midpoints(dim0s), get_midpoints(dim1s), get_midpoints(dim2s))"
   ]
  },
  {
   "cell_type": "code",
   "execution_count": null,
   "metadata": {},
   "outputs": [],
   "source": [
    "bin_rotations = np.array([[0,0],[-0.2,-0.2],[-0.2,0.2],[0.2,-0.2],[0.2,0.2]])"
   ]
  },
  {
   "cell_type": "code",
   "execution_count": null,
   "metadata": {},
   "outputs": [],
   "source": [
    "def twod_alignment(v1, v2):\n",
    "    r1 = R.from_euler('zyx', v1[:, -1::-1])\n",
    "    r2 = R.from_euler('zyx', v2[-1::-1])\n",
    "\n",
    "    r3 = r2*r1.inv()\n",
    "    a = r3.as_matrix()\n",
    "\n",
    "    \n",
    "    val, v = np.linalg.eig(a)\n",
    "    idx = np.argwhere(np.round(val, 6) == 1)\n",
    "    ax = v[idx[:,0], :, idx[:,1]]\n",
    "    \n",
    "    return np.abs(np.pi-np.arccos(np.round((a.trace(axis1=1, axis2=2) - 1) / 2, 6)))/np.pi, np.abs(ax[...,1])"
   ]
  },
  {
   "cell_type": "code",
   "execution_count": null,
   "metadata": {},
   "outputs": [],
   "source": [
    "heatmap = np.zeros(20 ** 3)\n",
    "for i, ai in tqdm.tqdm(enumerate(a)):\n",
    "    heatmap[i], _ = np.max(twod_alignment(bin_rotations, ai), axis=1)"
   ]
  },
  {
   "cell_type": "code",
   "execution_count": null,
   "metadata": {},
   "outputs": [],
   "source": [
    "heatmap = heatmap.reshape(20, 20, 20)"
   ]
  },
  {
   "cell_type": "code",
   "execution_count": null,
   "metadata": {},
   "outputs": [],
   "source": [
    "bin_rotations"
   ]
  },
  {
   "cell_type": "code",
   "execution_count": null,
   "metadata": {},
   "outputs": [],
   "source": [
    "br = np.repeat(np.insert(bin_rotations, 2, None, axis=1), len(dim2s), axis=0).reshape(len(bin_rotations), len(dim2s), 3)\n",
    "br[:,:,2] = dim2s\n",
    "bin_rotations = br.reshape(-1,3)"
   ]
  },
  {
   "cell_type": "code",
   "execution_count": null,
   "metadata": {},
   "outputs": [],
   "source": [
    "br"
   ]
  },
  {
   "cell_type": "code",
   "execution_count": null,
   "metadata": {},
   "outputs": [],
   "source": []
  }
 ],
 "metadata": {
  "kernelspec": {
   "display_name": "Python 3",
   "language": "python",
   "name": "python3"
  },
  "language_info": {
   "codemirror_mode": {
    "name": "ipython",
    "version": 3
   },
   "file_extension": ".py",
   "mimetype": "text/x-python",
   "name": "python",
   "nbconvert_exporter": "python",
   "pygments_lexer": "ipython3",
   "version": "3.7.4"
  }
 },
 "nbformat": 4,
 "nbformat_minor": 4
}
