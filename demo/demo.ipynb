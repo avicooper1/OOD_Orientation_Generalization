{
  "cells": [
    {
      "cell_type": "markdown",
      "metadata": {
        "id": "view-in-github",
        "colab_type": "text"
      },
      "source": [
        "<a href=\"https://colab.research.google.com/github/avicooper1/OOD_Orientation_Generalization/blob/master/demo/demo.ipynb\" target=\"_parent\"><img src=\"https://colab.research.google.com/assets/colab-badge.svg\" alt=\"Open In Colab\"/></a>"
      ]
    },
    {
      "cell_type": "code",
      "source": [
        "! git clone https://TOKEN@github.com/avicooper1/OOD_Orientation_Generalization.git"
      ],
      "metadata": {
        "colab": {
          "base_uri": "https://localhost:8080/"
        },
        "id": "c_N3RAeCF35G",
        "outputId": "9847464d-cb4e-478a-d686-56952592f64b"
      },
      "execution_count": 2,
      "outputs": [
        {
          "output_type": "stream",
          "name": "stdout",
          "text": [
            "Cloning into 'OOD_Orientation_Generalization'...\n",
            "remote: Enumerating objects: 94, done.\u001b[K\n",
            "remote: Counting objects: 100% (94/94), done.\u001b[K\n",
            "remote: Compressing objects: 100% (84/84), done.\u001b[K\n",
            "remote: Total 94 (delta 11), reused 87 (delta 8), pack-reused 0\u001b[K\n",
            "Unpacking objects: 100% (94/94), done.\n"
          ]
        }
      ]
    },
    {
      "cell_type": "code",
      "source": [
        "! pip install ipympl"
      ],
      "metadata": {
        "colab": {
          "base_uri": "https://localhost:8080/"
        },
        "id": "wuDRwz4lGW30",
        "outputId": "378968dd-ca48-417f-f5ee-f5a601d1db6a"
      },
      "execution_count": 3,
      "outputs": [
        {
          "output_type": "stream",
          "name": "stdout",
          "text": [
            "Collecting ipympl\n",
            "  Downloading ipympl-0.8.4-py2.py3-none-any.whl (507 kB)\n",
            "\u001b[?25l\r\u001b[K     |▋                               | 10 kB 21.4 MB/s eta 0:00:01\r\u001b[K     |█▎                              | 20 kB 8.7 MB/s eta 0:00:01\r\u001b[K     |██                              | 30 kB 11.2 MB/s eta 0:00:01\r\u001b[K     |██▋                             | 40 kB 9.7 MB/s eta 0:00:01\r\u001b[K     |███▎                            | 51 kB 5.8 MB/s eta 0:00:01\r\u001b[K     |███▉                            | 61 kB 5.8 MB/s eta 0:00:01\r\u001b[K     |████▌                           | 71 kB 5.6 MB/s eta 0:00:01\r\u001b[K     |█████▏                          | 81 kB 6.2 MB/s eta 0:00:01\r\u001b[K     |█████▉                          | 92 kB 5.0 MB/s eta 0:00:01\r\u001b[K     |██████▌                         | 102 kB 5.3 MB/s eta 0:00:01\r\u001b[K     |███████                         | 112 kB 5.3 MB/s eta 0:00:01\r\u001b[K     |███████▊                        | 122 kB 5.3 MB/s eta 0:00:01\r\u001b[K     |████████▍                       | 133 kB 5.3 MB/s eta 0:00:01\r\u001b[K     |█████████                       | 143 kB 5.3 MB/s eta 0:00:01\r\u001b[K     |█████████▊                      | 153 kB 5.3 MB/s eta 0:00:01\r\u001b[K     |██████████▎                     | 163 kB 5.3 MB/s eta 0:00:01\r\u001b[K     |███████████                     | 174 kB 5.3 MB/s eta 0:00:01\r\u001b[K     |███████████▋                    | 184 kB 5.3 MB/s eta 0:00:01\r\u001b[K     |████████████▎                   | 194 kB 5.3 MB/s eta 0:00:01\r\u001b[K     |█████████████                   | 204 kB 5.3 MB/s eta 0:00:01\r\u001b[K     |█████████████▌                  | 215 kB 5.3 MB/s eta 0:00:01\r\u001b[K     |██████████████▏                 | 225 kB 5.3 MB/s eta 0:00:01\r\u001b[K     |██████████████▉                 | 235 kB 5.3 MB/s eta 0:00:01\r\u001b[K     |███████████████▌                | 245 kB 5.3 MB/s eta 0:00:01\r\u001b[K     |████████████████▏               | 256 kB 5.3 MB/s eta 0:00:01\r\u001b[K     |████████████████▊               | 266 kB 5.3 MB/s eta 0:00:01\r\u001b[K     |█████████████████▍              | 276 kB 5.3 MB/s eta 0:00:01\r\u001b[K     |██████████████████              | 286 kB 5.3 MB/s eta 0:00:01\r\u001b[K     |██████████████████▊             | 296 kB 5.3 MB/s eta 0:00:01\r\u001b[K     |███████████████████▍            | 307 kB 5.3 MB/s eta 0:00:01\r\u001b[K     |████████████████████            | 317 kB 5.3 MB/s eta 0:00:01\r\u001b[K     |████████████████████▋           | 327 kB 5.3 MB/s eta 0:00:01\r\u001b[K     |█████████████████████▎          | 337 kB 5.3 MB/s eta 0:00:01\r\u001b[K     |██████████████████████          | 348 kB 5.3 MB/s eta 0:00:01\r\u001b[K     |██████████████████████▋         | 358 kB 5.3 MB/s eta 0:00:01\r\u001b[K     |███████████████████████▎        | 368 kB 5.3 MB/s eta 0:00:01\r\u001b[K     |███████████████████████▉        | 378 kB 5.3 MB/s eta 0:00:01\r\u001b[K     |████████████████████████▌       | 389 kB 5.3 MB/s eta 0:00:01\r\u001b[K     |█████████████████████████▏      | 399 kB 5.3 MB/s eta 0:00:01\r\u001b[K     |█████████████████████████▉      | 409 kB 5.3 MB/s eta 0:00:01\r\u001b[K     |██████████████████████████▌     | 419 kB 5.3 MB/s eta 0:00:01\r\u001b[K     |███████████████████████████     | 430 kB 5.3 MB/s eta 0:00:01\r\u001b[K     |███████████████████████████▊    | 440 kB 5.3 MB/s eta 0:00:01\r\u001b[K     |████████████████████████████▍   | 450 kB 5.3 MB/s eta 0:00:01\r\u001b[K     |█████████████████████████████   | 460 kB 5.3 MB/s eta 0:00:01\r\u001b[K     |█████████████████████████████▊  | 471 kB 5.3 MB/s eta 0:00:01\r\u001b[K     |██████████████████████████████▎ | 481 kB 5.3 MB/s eta 0:00:01\r\u001b[K     |███████████████████████████████ | 491 kB 5.3 MB/s eta 0:00:01\r\u001b[K     |███████████████████████████████▋| 501 kB 5.3 MB/s eta 0:00:01\r\u001b[K     |████████████████████████████████| 507 kB 5.3 MB/s \n",
            "\u001b[?25hRequirement already satisfied: matplotlib>=2.0.0 in /usr/local/lib/python3.7/dist-packages (from ipympl) (3.2.2)\n",
            "Requirement already satisfied: ipykernel>=4.7 in /usr/local/lib/python3.7/dist-packages (from ipympl) (4.10.1)\n",
            "Requirement already satisfied: ipywidgets>=7.6.0 in /usr/local/lib/python3.7/dist-packages (from ipympl) (7.6.5)\n",
            "Requirement already satisfied: jupyter-client in /usr/local/lib/python3.7/dist-packages (from ipykernel>=4.7->ipympl) (5.3.5)\n",
            "Requirement already satisfied: traitlets>=4.1.0 in /usr/local/lib/python3.7/dist-packages (from ipykernel>=4.7->ipympl) (5.1.1)\n",
            "Requirement already satisfied: tornado>=4.0 in /usr/local/lib/python3.7/dist-packages (from ipykernel>=4.7->ipympl) (5.1.1)\n",
            "Requirement already satisfied: ipython>=4.0.0 in /usr/local/lib/python3.7/dist-packages (from ipykernel>=4.7->ipympl) (5.5.0)\n",
            "Requirement already satisfied: setuptools>=18.5 in /usr/local/lib/python3.7/dist-packages (from ipython>=4.0.0->ipykernel>=4.7->ipympl) (57.4.0)\n",
            "Requirement already satisfied: prompt-toolkit<2.0.0,>=1.0.4 in /usr/local/lib/python3.7/dist-packages (from ipython>=4.0.0->ipykernel>=4.7->ipympl) (1.0.18)\n",
            "Requirement already satisfied: pickleshare in /usr/local/lib/python3.7/dist-packages (from ipython>=4.0.0->ipykernel>=4.7->ipympl) (0.7.5)\n",
            "Requirement already satisfied: pygments in /usr/local/lib/python3.7/dist-packages (from ipython>=4.0.0->ipykernel>=4.7->ipympl) (2.6.1)\n",
            "Requirement already satisfied: simplegeneric>0.8 in /usr/local/lib/python3.7/dist-packages (from ipython>=4.0.0->ipykernel>=4.7->ipympl) (0.8.1)\n",
            "Requirement already satisfied: pexpect in /usr/local/lib/python3.7/dist-packages (from ipython>=4.0.0->ipykernel>=4.7->ipympl) (4.8.0)\n",
            "Requirement already satisfied: decorator in /usr/local/lib/python3.7/dist-packages (from ipython>=4.0.0->ipykernel>=4.7->ipympl) (4.4.2)\n",
            "Requirement already satisfied: widgetsnbextension~=3.5.0 in /usr/local/lib/python3.7/dist-packages (from ipywidgets>=7.6.0->ipympl) (3.5.2)\n",
            "Requirement already satisfied: jupyterlab-widgets>=1.0.0 in /usr/local/lib/python3.7/dist-packages (from ipywidgets>=7.6.0->ipympl) (1.0.2)\n",
            "Requirement already satisfied: nbformat>=4.2.0 in /usr/local/lib/python3.7/dist-packages (from ipywidgets>=7.6.0->ipympl) (5.1.3)\n",
            "Requirement already satisfied: ipython-genutils~=0.2.0 in /usr/local/lib/python3.7/dist-packages (from ipywidgets>=7.6.0->ipympl) (0.2.0)\n",
            "Requirement already satisfied: kiwisolver>=1.0.1 in /usr/local/lib/python3.7/dist-packages (from matplotlib>=2.0.0->ipympl) (1.3.2)\n",
            "Requirement already satisfied: numpy>=1.11 in /usr/local/lib/python3.7/dist-packages (from matplotlib>=2.0.0->ipympl) (1.19.5)\n",
            "Requirement already satisfied: python-dateutil>=2.1 in /usr/local/lib/python3.7/dist-packages (from matplotlib>=2.0.0->ipympl) (2.8.2)\n",
            "Requirement already satisfied: pyparsing!=2.0.4,!=2.1.2,!=2.1.6,>=2.0.1 in /usr/local/lib/python3.7/dist-packages (from matplotlib>=2.0.0->ipympl) (3.0.6)\n",
            "Requirement already satisfied: cycler>=0.10 in /usr/local/lib/python3.7/dist-packages (from matplotlib>=2.0.0->ipympl) (0.11.0)\n",
            "Requirement already satisfied: jsonschema!=2.5.0,>=2.4 in /usr/local/lib/python3.7/dist-packages (from nbformat>=4.2.0->ipywidgets>=7.6.0->ipympl) (2.6.0)\n",
            "Requirement already satisfied: jupyter-core in /usr/local/lib/python3.7/dist-packages (from nbformat>=4.2.0->ipywidgets>=7.6.0->ipympl) (4.9.1)\n",
            "Requirement already satisfied: six>=1.9.0 in /usr/local/lib/python3.7/dist-packages (from prompt-toolkit<2.0.0,>=1.0.4->ipython>=4.0.0->ipykernel>=4.7->ipympl) (1.15.0)\n",
            "Requirement already satisfied: wcwidth in /usr/local/lib/python3.7/dist-packages (from prompt-toolkit<2.0.0,>=1.0.4->ipython>=4.0.0->ipykernel>=4.7->ipympl) (0.2.5)\n",
            "Requirement already satisfied: notebook>=4.4.1 in /usr/local/lib/python3.7/dist-packages (from widgetsnbextension~=3.5.0->ipywidgets>=7.6.0->ipympl) (5.3.1)\n",
            "Requirement already satisfied: jinja2 in /usr/local/lib/python3.7/dist-packages (from notebook>=4.4.1->widgetsnbextension~=3.5.0->ipywidgets>=7.6.0->ipympl) (2.11.3)\n",
            "Requirement already satisfied: Send2Trash in /usr/local/lib/python3.7/dist-packages (from notebook>=4.4.1->widgetsnbextension~=3.5.0->ipywidgets>=7.6.0->ipympl) (1.8.0)\n",
            "Requirement already satisfied: nbconvert in /usr/local/lib/python3.7/dist-packages (from notebook>=4.4.1->widgetsnbextension~=3.5.0->ipywidgets>=7.6.0->ipympl) (5.6.1)\n",
            "Requirement already satisfied: terminado>=0.8.1 in /usr/local/lib/python3.7/dist-packages (from notebook>=4.4.1->widgetsnbextension~=3.5.0->ipywidgets>=7.6.0->ipympl) (0.12.1)\n",
            "Requirement already satisfied: pyzmq>=13 in /usr/local/lib/python3.7/dist-packages (from jupyter-client->ipykernel>=4.7->ipympl) (22.3.0)\n",
            "Requirement already satisfied: ptyprocess in /usr/local/lib/python3.7/dist-packages (from terminado>=0.8.1->notebook>=4.4.1->widgetsnbextension~=3.5.0->ipywidgets>=7.6.0->ipympl) (0.7.0)\n",
            "Requirement already satisfied: MarkupSafe>=0.23 in /usr/local/lib/python3.7/dist-packages (from jinja2->notebook>=4.4.1->widgetsnbextension~=3.5.0->ipywidgets>=7.6.0->ipympl) (2.0.1)\n",
            "Requirement already satisfied: entrypoints>=0.2.2 in /usr/local/lib/python3.7/dist-packages (from nbconvert->notebook>=4.4.1->widgetsnbextension~=3.5.0->ipywidgets>=7.6.0->ipympl) (0.3)\n",
            "Requirement already satisfied: testpath in /usr/local/lib/python3.7/dist-packages (from nbconvert->notebook>=4.4.1->widgetsnbextension~=3.5.0->ipywidgets>=7.6.0->ipympl) (0.5.0)\n",
            "Requirement already satisfied: defusedxml in /usr/local/lib/python3.7/dist-packages (from nbconvert->notebook>=4.4.1->widgetsnbextension~=3.5.0->ipywidgets>=7.6.0->ipympl) (0.7.1)\n",
            "Requirement already satisfied: mistune<2,>=0.8.1 in /usr/local/lib/python3.7/dist-packages (from nbconvert->notebook>=4.4.1->widgetsnbextension~=3.5.0->ipywidgets>=7.6.0->ipympl) (0.8.4)\n",
            "Requirement already satisfied: bleach in /usr/local/lib/python3.7/dist-packages (from nbconvert->notebook>=4.4.1->widgetsnbextension~=3.5.0->ipywidgets>=7.6.0->ipympl) (4.1.0)\n",
            "Requirement already satisfied: pandocfilters>=1.4.1 in /usr/local/lib/python3.7/dist-packages (from nbconvert->notebook>=4.4.1->widgetsnbextension~=3.5.0->ipywidgets>=7.6.0->ipympl) (1.5.0)\n",
            "Requirement already satisfied: webencodings in /usr/local/lib/python3.7/dist-packages (from bleach->nbconvert->notebook>=4.4.1->widgetsnbextension~=3.5.0->ipywidgets>=7.6.0->ipympl) (0.5.1)\n",
            "Requirement already satisfied: packaging in /usr/local/lib/python3.7/dist-packages (from bleach->nbconvert->notebook>=4.4.1->widgetsnbextension~=3.5.0->ipywidgets>=7.6.0->ipympl) (21.3)\n",
            "Installing collected packages: ipympl\n",
            "Successfully installed ipympl-0.8.4\n"
          ]
        }
      ]
    },
    {
      "cell_type": "code",
      "execution_count": 4,
      "metadata": {
        "id": "SjRpj755FsrN"
      },
      "outputs": [],
      "source": [
        "from google.colab import output\n",
        "output.enable_custom_widget_manager()\n",
        "%matplotlib widget\n",
        "import matplotlib.pyplot as plt\n",
        "import ipywidgets as widgets\n",
        "from ipywidgets import interact\n",
        "import sys\n",
        "sys.path.append(\"OOD_Orientation_Generalization/\")\n",
        "from tools import *"
      ]
    },
    {
      "cell_type": "code",
      "execution_count": 5,
      "metadata": {
        "id": "by3MUl7-FsrS"
      },
      "outputs": [],
      "source": [
        "current_cmap = plt.cm.get_cmap()\n",
        "current_cmap.set_bad(color='gray')\n",
        "\n",
        "def show(arr, remove_axes=True, vmin=0, vmax=1):\n",
        "    plt.close('all')\n",
        "    img = plt.imshow(arr, vmin=vmin, vmax=vmax)\n",
        "    if remove_axes:\n",
        "        plt.axis('off')\n",
        "    return img"
      ]
    },
    {
      "cell_type": "code",
      "execution_count": 8,
      "metadata": {
        "id": "F1MQUKuPFsrT"
      },
      "outputs": [],
      "source": [
        "def compute_cubelet(frame):\n",
        "    return np.mean(frame.correct), len(frame)\n",
        "\n",
        "def get_categorical_dict(series):\n",
        "    orig_dict = dict(enumerate(series.cat.categories))\n",
        "    return {orig_dict[i]: i for i in orig_dict.keys()}\n",
        "\n",
        "def generate_prediction_heatmap(exp_num, data_div, num_cubelets=20):\n",
        "    dim0s, dim1s, dim2s = get_heatmap_cell_ranges(num_cubelets, num_cubelets)\n",
        "    \n",
        "    d = pd.read_csv(f'OOD_Orientation_Generalization/demo/exps/exp{exp_num}/Div{data_div}.gzip', compression='gzip')\n",
        "    \n",
        "    heatmap = np.empty((num_cubelets, num_cubelets, num_cubelets))\n",
        "    heatmap[:] = np.nan\n",
        "    \n",
        "    binned_object_x = pd.cut(d.object_x, dim0s)\n",
        "    binned_object_y = pd.cut(d.object_y, dim1s)\n",
        "    binned_object_z = pd.cut(d.object_z, dim2s)\n",
        "    \n",
        "    cat_dicts = [get_categorical_dict(x) for x in [binned_object_x, binned_object_y, binned_object_z]]\n",
        "\n",
        "    groups = d.groupby([binned_object_x, binned_object_y, binned_object_z])\n",
        "    groups_count = groups.ngroups\n",
        "    \n",
        "    for i, group in tqdm.tqdm(enumerate(groups), total=groups_count, position=0, leave=True):\n",
        "        x, y, z = [cat_dicts[i][group[0][i]] for i in range(3)]\n",
        "        heatmap[z, x, y], _ = compute_cubelet(group[1])\n",
        "    \n",
        "    heatmap = heatmap.reshape((num_cubelets, num_cubelets, num_cubelets))\n",
        "    \n",
        "    return heatmap"
      ]
    },
    {
      "cell_type": "code",
      "execution_count": 9,
      "metadata": {
        "colab": {
          "base_uri": "https://localhost:8080/"
        },
        "id": "usMNLV60FsrU",
        "outputId": "c13b603a-bac7-40c9-a1b0-1bea55ad9c66"
      },
      "outputs": [
        {
          "output_type": "stream",
          "name": "stderr",
          "text": [
            "100%|██████████| 7977/7977 [00:02<00:00, 2894.33it/s]\n"
          ]
        }
      ],
      "source": [
        "b = generate_prediction_heatmap(0, 40)"
      ]
    },
    {
      "cell_type": "code",
      "execution_count": 10,
      "metadata": {
        "colab": {
          "base_uri": "https://localhost:8080/",
          "height": 443,
          "referenced_widgets": [
            "4f941bc5b3df4bb48ce5940904bf3e49",
            "3a0301f3228d456198d7ee9d359aafd1",
            "1e2eef9dd1a24cc884b0a18107e817ae",
            "43fa32e49a3544eaaa68943921d00d08",
            "36f2b72d00444f07b211ade19e7233c1",
            "244978b0ef1e44ff9da5c0b7d74af2d9",
            "61598c88b0f74a90889f569a2b9d59c3",
            "48df4e19e100487c89f6abf4a24bb063",
            "6c6728c5bc30436db4f99f5b9b9924eb",
            "66eaefa0cda14e2f8262f87764647973",
            "4939d94bf652458e91d56c40da942b3f"
          ]
        },
        "id": "Q1U235PuFsrV",
        "outputId": "d61830dc-494e-4b0b-e874-844486e086da"
      },
      "outputs": [
        {
          "output_type": "display_data",
          "data": {
            "application/vnd.jupyter.widget-view+json": {
              "model_id": "4f941bc5b3df4bb48ce5940904bf3e49",
              "version_minor": 0,
              "version_major": 2
            },
            "text/plain": [
              "interactive(children=(IntSlider(value=0, description='alpha', max=19), Output()), _dom_classes=('widget-intera…"
            ]
          },
          "metadata": {
            "application/vnd.jupyter.widget-view+json": {
              "colab": {
                "custom_widget_manager": {
                  "url": "https://ssl.gstatic.com/colaboratory-static/widgets/colab-cdn-widget-manager/a8874ba6619b6106/manager.min.js"
                }
              }
            }
          }
        },
        {
          "output_type": "display_data",
          "data": {
            "image/png": "[encoded data removed]",
            "application/vnd.jupyter.widget-view+json": {
              "model_id": "48df4e19e100487c89f6abf4a24bb063",
              "version_minor": 0,
              "version_major": 2
            },
            "text/html": [
              "\n",
              "            <div style=\"display: inline-block;\">\n",
              "                <div class=\"jupyter-widgets widget-label\" style=\"text-align: center;\">\n",
              "                    Figure\n",
              "                </div>\n",
              "                <img src='data:image/png;base64,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' width=432.0/>\n",
              "            </div>\n",
              "        "
            ],
            "text/plain": [
              "Canvas(toolbar=Toolbar(toolitems=[('Home', 'Reset original view', 'home', 'home'), ('Back', 'Back to previous …"
            ]
          },
          "metadata": {
            "application/vnd.jupyter.widget-view+json": {
              "colab": {
                "custom_widget_manager": {
                  "url": "https://ssl.gstatic.com/colaboratory-static/widgets/colab-cdn-widget-manager/a8874ba6619b6106/manager.min.js"
                }
              }
            }
          }
        },
        {
          "output_type": "stream",
          "name": "stderr",
          "text": [
            "Unhandled message type set_device_pixel_ratio. {'type': 'set_device_pixel_ratio', 'device_pixel_ratio': 2}\n",
            "Unhandled message type set_device_pixel_ratio. {'type': 'set_device_pixel_ratio', 'device_pixel_ratio': 2}\n"
          ]
        }
      ],
      "source": [
        "img = show(b[0])\n",
        "@interact(alpha=widgets.IntSlider(value=0, min=0, max=19))\n",
        "def update(alpha):\n",
        "  img.set_data(b[alpha])\n",
        "  plt.draw()"
      ]
    },
    {
      "cell_type": "code",
      "execution_count": null,
      "metadata": {
        "id": "9vkzsUSGFsrW"
      },
      "outputs": [],
      "source": [
        "def get_midpoints(dim):\n",
        "    return dim[:-1] + ((dim[1:] - dim[:-1]) / 2)"
      ]
    },
    {
      "cell_type": "code",
      "execution_count": null,
      "metadata": {
        "id": "SVI_D-o7FsrW"
      },
      "outputs": [],
      "source": [
        "def cartesian_product(*arrays):\n",
        "    la = len(arrays)\n",
        "    dtype = np.result_type(*arrays)\n",
        "    arr = np.empty([len(a) for a in arrays] + [la], dtype=dtype)\n",
        "    for i, a in enumerate(np.ix_(*arrays)):\n",
        "        arr[...,i] = a\n",
        "    return arr.reshape(-1, la)"
      ]
    },
    {
      "cell_type": "code",
      "execution_count": null,
      "metadata": {
        "id": "CYhnXu1yFsrW"
      },
      "outputs": [],
      "source": [
        "a = cartesian_product(get_midpoints(dim0s), get_midpoints(dim1s), get_midpoints(dim2s))"
      ]
    },
    {
      "cell_type": "code",
      "execution_count": null,
      "metadata": {
        "id": "xl0It3OKFsrX"
      },
      "outputs": [],
      "source": [
        "bin_rotations = np.array([[0,0],[-0.2,-0.2],[-0.2,0.2],[0.2,-0.2],[0.2,0.2]])"
      ]
    },
    {
      "cell_type": "code",
      "execution_count": null,
      "metadata": {
        "id": "T2X5zn68FsrX"
      },
      "outputs": [],
      "source": [
        "def twod_alignment(v1, v2):\n",
        "    r1 = R.from_euler('zyx', v1[:, -1::-1])\n",
        "    r2 = R.from_euler('zyx', v2[-1::-1])\n",
        "\n",
        "    r3 = r2*r1.inv()\n",
        "    a = r3.as_matrix()\n",
        "\n",
        "    \n",
        "    val, v = np.linalg.eig(a)\n",
        "    idx = np.argwhere(np.round(val, 6) == 1)\n",
        "    ax = v[idx[:,0], :, idx[:,1]]\n",
        "    \n",
        "    return np.abs(np.pi-np.arccos(np.round((a.trace(axis1=1, axis2=2) - 1) / 2, 6)))/np.pi, np.abs(ax[...,1])"
      ]
    },
    {
      "cell_type": "code",
      "execution_count": null,
      "metadata": {
        "id": "wTFTRVz7FsrX"
      },
      "outputs": [],
      "source": [
        "heatmap = np.zeros(20 ** 3)\n",
        "for i, ai in tqdm.tqdm(enumerate(a)):\n",
        "    heatmap[i], _ = np.max(twod_alignment(bin_rotations, ai), axis=1)"
      ]
    },
    {
      "cell_type": "code",
      "execution_count": null,
      "metadata": {
        "id": "yEkPJMYRFsrY"
      },
      "outputs": [],
      "source": [
        "heatmap = heatmap.reshape(20, 20, 20)"
      ]
    },
    {
      "cell_type": "code",
      "execution_count": null,
      "metadata": {
        "id": "f1PNoEWCFsrY"
      },
      "outputs": [],
      "source": [
        "bin_rotations"
      ]
    },
    {
      "cell_type": "code",
      "execution_count": null,
      "metadata": {
        "id": "KoGiWyxCFsrY"
      },
      "outputs": [],
      "source": [
        "br = np.repeat(np.insert(bin_rotations, 2, None, axis=1), len(dim2s), axis=0).reshape(len(bin_rotations), len(dim2s), 3)\n",
        "br[:,:,2] = dim2s\n",
        "bin_rotations = br.reshape(-1,3)"
      ]
    },
    {
      "cell_type": "code",
      "execution_count": null,
      "metadata": {
        "id": "eXnIIlFwFsrZ"
      },
      "outputs": [],
      "source": [
        "br"
      ]
    },
    {
      "cell_type": "code",
      "execution_count": null,
      "metadata": {
        "id": "0jrIQ0OpFsrZ"
      },
      "outputs": [],
      "source": [
        ""
      ]
    }
  ],
  "metadata": {
    "kernelspec": {
      "display_name": "Python 3",
      "language": "python",
      "name": "python3"
    },
    "language_info": {
      "codemirror_mode": {
        "name": "ipython",
        "version": 3
      },
      "file_extension": ".py",
      "mimetype": "text/x-python",
      "name": "python",
      "nbconvert_exporter": "python",
      "pygments_lexer": "ipython3",
      "version": "3.7.4"
    },
    "colab": {
      "name": "demo.ipynb",
      "provenance": [],
      "include_colab_link": true
    },
    "widgets": {
      "application/vnd.jupyter.widget-state+json": {
        "4f941bc5b3df4bb48ce5940904bf3e49": {
          "model_module": "@jupyter-widgets/controls",
          "model_name": "VBoxModel",
          "model_module_version": "1.5.0",
          "state": {
            "_view_name": "VBoxView",
            "_dom_classes": [
              "widget-interact"
            ],
            "_model_name": "VBoxModel",
            "_view_module": "@jupyter-widgets/controls",
            "_model_module_version": "1.5.0",
            "_view_count": null,
            "_view_module_version": "1.5.0",
            "box_style": "",
            "layout": "IPY_MODEL_3a0301f3228d456198d7ee9d359aafd1",
            "_model_module": "@jupyter-widgets/controls",
            "children": [
              "IPY_MODEL_1e2eef9dd1a24cc884b0a18107e817ae",
              "IPY_MODEL_43fa32e49a3544eaaa68943921d00d08"
            ]
          }
        },
        "3a0301f3228d456198d7ee9d359aafd1": {
          "model_module": "@jupyter-widgets/base",
          "model_name": "LayoutModel",
          "model_module_version": "1.2.0",
          "state": {
            "_view_name": "LayoutView",
            "grid_template_rows": null,
            "right": null,
            "justify_content": null,
            "_view_module": "@jupyter-widgets/base",
            "overflow": null,
            "_model_module_version": "1.2.0",
            "_view_count": null,
            "flex_flow": null,
            "width": null,
            "min_width": null,
            "border": null,
            "align_items": null,
            "bottom": null,
            "_model_module": "@jupyter-widgets/base",
            "top": null,
            "grid_column": null,
            "overflow_y": null,
            "overflow_x": null,
            "grid_auto_flow": null,
            "grid_area": null,
            "grid_template_columns": null,
            "flex": null,
            "_model_name": "LayoutModel",
            "justify_items": null,
            "grid_row": null,
            "max_height": null,
            "align_content": null,
            "visibility": null,
            "align_self": null,
            "height": null,
            "min_height": null,
            "padding": null,
            "grid_auto_rows": null,
            "grid_gap": null,
            "max_width": null,
            "order": null,
            "_view_module_version": "1.2.0",
            "grid_template_areas": null,
            "object_position": null,
            "object_fit": null,
            "grid_auto_columns": null,
            "margin": null,
            "display": null,
            "left": null
          }
        },
        "1e2eef9dd1a24cc884b0a18107e817ae": {
          "model_module": "@jupyter-widgets/controls",
          "model_name": "IntSliderModel",
          "model_module_version": "1.5.0",
          "state": {
            "_view_name": "IntSliderView",
            "style": "IPY_MODEL_36f2b72d00444f07b211ade19e7233c1",
            "_dom_classes": [],
            "description": "alpha",
            "step": 1,
            "_model_name": "IntSliderModel",
            "orientation": "horizontal",
            "max": 19,
            "_view_module": "@jupyter-widgets/controls",
            "_model_module_version": "1.5.0",
            "value": 0,
            "_view_count": null,
            "disabled": false,
            "_view_module_version": "1.5.0",
            "min": 0,
            "continuous_update": true,
            "readout_format": "d",
            "description_tooltip": null,
            "readout": true,
            "_model_module": "@jupyter-widgets/controls",
            "layout": "IPY_MODEL_244978b0ef1e44ff9da5c0b7d74af2d9"
          }
        },
        "43fa32e49a3544eaaa68943921d00d08": {
          "model_module": "@jupyter-widgets/output",
          "model_name": "OutputModel",
          "model_module_version": "1.0.0",
          "state": {
            "_view_name": "OutputView",
            "msg_id": "",
            "_dom_classes": [],
            "_model_name": "OutputModel",
            "outputs": [],
            "_view_module": "@jupyter-widgets/output",
            "_model_module_version": "1.0.0",
            "_view_count": null,
            "_view_module_version": "1.0.0",
            "layout": "IPY_MODEL_61598c88b0f74a90889f569a2b9d59c3",
            "_model_module": "@jupyter-widgets/output"
          }
        },
        "36f2b72d00444f07b211ade19e7233c1": {
          "model_module": "@jupyter-widgets/controls",
          "model_name": "SliderStyleModel",
          "model_module_version": "1.5.0",
          "state": {
            "_view_name": "StyleView",
            "handle_color": null,
            "_model_name": "SliderStyleModel",
            "description_width": "",
            "_view_module": "@jupyter-widgets/base",
            "_model_module_version": "1.5.0",
            "_view_count": null,
            "_view_module_version": "1.2.0",
            "_model_module": "@jupyter-widgets/controls"
          }
        },
        "244978b0ef1e44ff9da5c0b7d74af2d9": {
          "model_module": "@jupyter-widgets/base",
          "model_name": "LayoutModel",
          "model_module_version": "1.2.0",
          "state": {
            "_view_name": "LayoutView",
            "grid_template_rows": null,
            "right": null,
            "justify_content": null,
            "_view_module": "@jupyter-widgets/base",
            "overflow": null,
            "_model_module_version": "1.2.0",
            "_view_count": null,
            "flex_flow": null,
            "width": null,
            "min_width": null,
            "border": null,
            "align_items": null,
            "bottom": null,
            "_model_module": "@jupyter-widgets/base",
            "top": null,
            "grid_column": null,
            "overflow_y": null,
            "overflow_x": null,
            "grid_auto_flow": null,
            "grid_area": null,
            "grid_template_columns": null,
            "flex": null,
            "_model_name": "LayoutModel",
            "justify_items": null,
            "grid_row": null,
            "max_height": null,
            "align_content": null,
            "visibility": null,
            "align_self": null,
            "height": null,
            "min_height": null,
            "padding": null,
            "grid_auto_rows": null,
            "grid_gap": null,
            "max_width": null,
            "order": null,
            "_view_module_version": "1.2.0",
            "grid_template_areas": null,
            "object_position": null,
            "object_fit": null,
            "grid_auto_columns": null,
            "margin": null,
            "display": null,
            "left": null
          }
        },
        "61598c88b0f74a90889f569a2b9d59c3": {
          "model_module": "@jupyter-widgets/base",
          "model_name": "LayoutModel",
          "model_module_version": "1.2.0",
          "state": {
            "_view_name": "LayoutView",
            "grid_template_rows": null,
            "right": null,
            "justify_content": null,
            "_view_module": "@jupyter-widgets/base",
            "overflow": null,
            "_model_module_version": "1.2.0",
            "_view_count": null,
            "flex_flow": null,
            "width": null,
            "min_width": null,
            "border": null,
            "align_items": null,
            "bottom": null,
            "_model_module": "@jupyter-widgets/base",
            "top": null,
            "grid_column": null,
            "overflow_y": null,
            "overflow_x": null,
            "grid_auto_flow": null,
            "grid_area": null,
            "grid_template_columns": null,
            "flex": null,
            "_model_name": "LayoutModel",
            "justify_items": null,
            "grid_row": null,
            "max_height": null,
            "align_content": null,
            "visibility": null,
            "align_self": null,
            "height": null,
            "min_height": null,
            "padding": null,
            "grid_auto_rows": null,
            "grid_gap": null,
            "max_width": null,
            "order": null,
            "_view_module_version": "1.2.0",
            "grid_template_areas": null,
            "object_position": null,
            "object_fit": null,
            "grid_auto_columns": null,
            "margin": null,
            "display": null,
            "left": null
          }
        },
        "48df4e19e100487c89f6abf4a24bb063": {
          "model_module": "jupyter-matplotlib",
          "model_name": "MPLCanvasModel",
          "model_module_version": "^0.10.4",
          "state": {
            "_view_name": "MPLCanvasView",
            "pan_zoom_throttle": 33,
            "_view_module": "jupyter-matplotlib",
            "_figure_label": "Figure 1",
            "_view_count": null,
            "_size": [
              432,
              288
            ],
            "_cursor": "default",
            "capture_scroll": false,
            "layout": "IPY_MODEL_6c6728c5bc30436db4f99f5b9b9924eb",
            "_model_module": "jupyter-matplotlib",
            "footer_visible": true,
            "_image_mode": "full",
            "_dom_classes": [],
            "resizable": true,
            "_model_name": "MPLCanvasModel",
            "header_visible": true,
            "_model_module_version": "^0.10.4",
            "_rubberband_x": 0,
            "_rubberband_y": 0,
            "toolbar": "IPY_MODEL_4939d94bf652458e91d56c40da942b3f",
            "_data_url": "data:image/png;base64,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",
            "toolbar_visible": "fade-in-fade-out",
            "_rubberband_width": 0,
            "_message": "",
            "_rubberband_height": 0,
            "_view_module_version": "^0.10.4",
            "toolbar_position": "left"
          }
        },
        "6c6728c5bc30436db4f99f5b9b9924eb": {
          "model_module": "@jupyter-widgets/base",
          "model_name": "LayoutModel",
          "model_module_version": "1.2.0",
          "state": {
            "_view_name": "LayoutView",
            "grid_template_rows": null,
            "right": null,
            "justify_content": null,
            "_view_module": "@jupyter-widgets/base",
            "overflow": null,
            "_model_module_version": "1.2.0",
            "_view_count": null,
            "flex_flow": null,
            "width": null,
            "min_width": null,
            "border": null,
            "align_items": null,
            "bottom": null,
            "_model_module": "@jupyter-widgets/base",
            "top": null,
            "grid_column": null,
            "overflow_y": null,
            "overflow_x": null,
            "grid_auto_flow": null,
            "grid_area": null,
            "grid_template_columns": null,
            "flex": null,
            "_model_name": "LayoutModel",
            "justify_items": null,
            "grid_row": null,
            "max_height": null,
            "align_content": null,
            "visibility": null,
            "align_self": null,
            "height": null,
            "min_height": null,
            "padding": null,
            "grid_auto_rows": null,
            "grid_gap": null,
            "max_width": null,
            "order": null,
            "_view_module_version": "1.2.0",
            "grid_template_areas": null,
            "object_position": null,
            "object_fit": null,
            "grid_auto_columns": null,
            "margin": null,
            "display": null,
            "left": null
          }
        },
        "66eaefa0cda14e2f8262f87764647973": {
          "model_module": "@jupyter-widgets/base",
          "model_name": "LayoutModel",
          "model_module_version": "1.2.0",
          "state": {
            "_view_name": "LayoutView",
            "grid_template_rows": null,
            "right": null,
            "justify_content": null,
            "_view_module": "@jupyter-widgets/base",
            "overflow": null,
            "_model_module_version": "1.2.0",
            "_view_count": null,
            "flex_flow": null,
            "width": null,
            "min_width": null,
            "border": null,
            "align_items": null,
            "bottom": null,
            "_model_module": "@jupyter-widgets/base",
            "top": null,
            "grid_column": null,
            "overflow_y": null,
            "overflow_x": null,
            "grid_auto_flow": null,
            "grid_area": null,
            "grid_template_columns": null,
            "flex": null,
            "_model_name": "LayoutModel",
            "justify_items": null,
            "grid_row": null,
            "max_height": null,
            "align_content": null,
            "visibility": null,
            "align_self": null,
            "height": null,
            "min_height": null,
            "padding": null,
            "grid_auto_rows": null,
            "grid_gap": null,
            "max_width": null,
            "order": null,
            "_view_module_version": "1.2.0",
            "grid_template_areas": null,
            "object_position": null,
            "object_fit": null,
            "grid_auto_columns": null,
            "margin": null,
            "display": null,
            "left": null
          }
        },
        "4939d94bf652458e91d56c40da942b3f": {
          "model_module": "jupyter-matplotlib",
          "model_name": "ToolbarModel",
          "model_module_version": "^0.10.4",
          "state": {
            "_current_action": "",
            "_view_name": "ToolbarView",
            "toolitems": [
              [
                "Home",
                "Reset original view",
                "home",
                "home"
              ],
              [
                "Back",
                "Back to previous view",
                "arrow-left",
                "back"
              ],
              [
                "Forward",
                "Forward to next view",
                "arrow-right",
                "forward"
              ],
              [
                "Pan",
                "Pan axes with left mouse, zoom with right",
                "arrows",
                "pan"
              ],
              [
                "Zoom",
                "Zoom to rectangle",
                "square-o",
                "zoom"
              ],
              [
                "Download",
                "Download plot",
                "floppy-o",
                "save_figure"
              ]
            ],
            "_dom_classes": [],
            "orientation": "vertical",
            "_model_name": "ToolbarModel",
            "button_style": "",
            "_view_module": "jupyter-matplotlib",
            "_model_module_version": "^0.10.4",
            "_view_count": null,
            "_view_module_version": "^0.10.4",
            "layout": "IPY_MODEL_66eaefa0cda14e2f8262f87764647973",
            "_model_module": "jupyter-matplotlib",
            "collapsed": true
          }
        }
      }
    }
  },
  "nbformat": 4,
  "nbformat_minor": 0
}