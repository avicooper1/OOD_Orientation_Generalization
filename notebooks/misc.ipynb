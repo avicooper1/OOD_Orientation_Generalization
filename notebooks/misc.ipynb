{
 "cells": [
  {
   "cell_type": "markdown",
   "metadata": {
    "pycharm": {
     "name": "#%% md\n"
    }
   },
   "source": [
    "------------------------"
   ]
  },
  {
   "cell_type": "code",
   "execution_count": null,
   "metadata": {
    "pycharm": {
     "name": "#%%\n"
    }
   },
   "outputs": [],
   "source": [
    "import numpy as np\n",
    "import matplotlib.pyplot as plt\n",
    "from scipy.ndimage import gaussian_filter\n",
    "import pandas as pd\n",
    "import sys\n",
    "sys.path.append('/home/avic/Rotation-Generalization')\n",
    "from tools import *"
   ]
  },
  {
   "cell_type": "code",
   "execution_count": null,
   "metadata": {
    "pycharm": {
     "name": "#%%\n"
    }
   },
   "outputs": [],
   "source": [
    "exp_path = '/home/avic/Rotation-Generalization/exps3.csv'"
   ]
  },
  {
   "cell_type": "code",
   "execution_count": null,
   "metadata": {
    "pycharm": {
     "name": "#%%\n"
    }
   },
   "outputs": [],
   "source": [
    "d = pd.read_csv(exp_path, index_col=0)"
   ]
  },
  {
   "cell_type": "code",
   "execution_count": null,
   "metadata": {
    "pycharm": {
     "name": "#%%\n"
    }
   },
   "outputs": [],
   "source": [
    "# def get_unrestricted(exp):\n",
    "#     if exp.restriction_axes == '(0, 1)':\n",
    "#         return 2\n",
    "#     if exp.restriction_axes == '(0, 2)':\n",
    "#         return 1\n",
    "#     return 0"
   ]
  },
  {
   "cell_type": "code",
   "execution_count": null,
   "metadata": {
    "pycharm": {
     "name": "#%%\n"
    }
   },
   "outputs": [],
   "source": [
    "# d['unrestricted_axis'] = d.apply(get_unrestricted, axis=1)"
   ]
  },
  {
   "cell_type": "code",
   "execution_count": null,
   "metadata": {
    "pycharm": {
     "name": "#%%\n"
    }
   },
   "outputs": [],
   "source": [
    "d = d.drop(columns=['eval_heatmap_id_scaled', 'eval_heatmap_ood_scaled', 'eval_heatmap_id'])"
   ]
  },
  {
   "cell_type": "code",
   "execution_count": null,
   "metadata": {
    "pycharm": {
     "name": "#%%\n"
    }
   },
   "outputs": [],
   "source": [
    "d['eval_heatmap_scaled'] = d.apply(lambda exp: os.path.join(exp.eval_dir, f'{exp[\"name\"]}_heatmap_scaled.npy'), axis=1)\n",
    "d['eval_heatmap_id'] = d.apply(lambda exp: os.path.join(exp.eval_dir, f'{exp[\"name\"]}_heatmap_id.npy'), axis=1)"
   ]
  },
  {
   "cell_type": "code",
   "execution_count": null,
   "metadata": {
    "pycharm": {
     "name": "#%%\n"
    }
   },
   "outputs": [],
   "source": [
    "d"
   ]
  },
  {
   "cell_type": "code",
   "execution_count": null,
   "metadata": {
    "pycharm": {
     "name": "#%%\n"
    }
   },
   "outputs": [],
   "source": [
    "# d['eval_heatmap_id_scaled'] = d.apply(lambda exp: os.path.join(exp.eval_dir, f'{exp[\"name\"]}_heatmap_id_scaled.npy'), axis=1)\n",
    "# d['eval_heatmap_ood_scaled'] = d.apply(lambda exp: os.path.join(exp.eval_dir, f'{exp[\"name\"]}_heatmap_ood_scaled.npy'), axis=1)"
   ]
  },
  {
   "cell_type": "code",
   "execution_count": null,
   "metadata": {
    "pycharm": {
     "name": "#%%\n"
    }
   },
   "outputs": [],
   "source": [
    "d.to_csv(exp_path)"
   ]
  },
  {
   "cell_type": "markdown",
   "metadata": {
    "pycharm": {
     "name": "#%% md\n"
    }
   },
   "source": [
    "------------------"
   ]
  },
  {
   "cell_type": "code",
   "execution_count": null,
   "metadata": {
    "pycharm": {
     "name": "#%%\n"
    }
   },
   "outputs": [],
   "source": [
    "import pandas as pd\n",
    "import os\n",
    "import shutil"
   ]
  },
  {
   "cell_type": "code",
   "execution_count": null,
   "metadata": {
    "pycharm": {
     "name": "#%%\n"
    }
   },
   "outputs": [],
   "source": [
    "def remove_exp(exp):\n",
    "    os.remove(exp.logs)\n",
    "    os.remove(exp.eval)\n",
    "    shutil.rmtree(exp.tensorboard_logs_dir)\n",
    "    os.remove(exp.testing_frame_path)\n",
    "    os.remove(exp.stats)\n",
    "    os.remove(exp.checkpoint)\n",
    "#     os.remove(exp.eval_heatmap)\n",
    "    os.remove(exp.eval_heatmap_id)\n",
    "    os.remove(exp.eval_heatmap_ood)"
   ]
  },
  {
   "cell_type": "code",
   "execution_count": null,
   "metadata": {
    "pycharm": {
     "name": "#%%\n"
    }
   },
   "outputs": [],
   "source": [
    "d = pd.read_csv('/home/avic/Rotation-Generalization/exps2.csv')"
   ]
  },
  {
   "cell_type": "code",
   "execution_count": null,
   "metadata": {
    "pycharm": {
     "name": "#%%\n"
    }
   },
   "outputs": [],
   "source": [
    "subset = d[(d.model_type == 'ModelType.ResNet') & (~d.augment) & (d.pretrained) & (~d.scale) & (d.training_category == 'SM')]"
   ]
  },
  {
   "cell_type": "code",
   "execution_count": null,
   "metadata": {
    "pycharm": {
     "name": "#%%\n"
    }
   },
   "outputs": [],
   "source": [
    "subset.job_id"
   ]
  },
  {
   "cell_type": "code",
   "execution_count": null,
   "metadata": {
    "pycharm": {
     "name": "#%%\n"
    }
   },
   "outputs": [],
   "source": [
    "for exp in subset.iterrows():\n",
    "    remove_exp(exp[1])"
   ]
  },
  {
   "cell_type": "markdown",
   "metadata": {
    "pycharm": {
     "name": "#%% md\n"
    }
   },
   "source": [
    "---------------------------------"
   ]
  },
  {
   "cell_type": "code",
   "execution_count": null,
   "metadata": {
    "pycharm": {
     "name": "#%%\n"
    }
   },
   "outputs": [],
   "source": [
    "import pandas as pd\n",
    "import os\n",
    "import tqdm\n",
    "import subprocess\n",
    "import sys\n",
    "sys.path.append('/home/avic/Rotation-Generalization')\n",
    "from dataset_path import *"
   ]
  },
  {
   "cell_type": "code",
   "execution_count": null,
   "metadata": {
    "pycharm": {
     "name": "#%%\n"
    }
   },
   "outputs": [],
   "source": [
    "files = [set(), set(), set(), set(), set()]"
   ]
  },
  {
   "cell_type": "code",
   "execution_count": null,
   "metadata": {
    "pycharm": {
     "name": "#%%\n"
    }
   },
   "outputs": [],
   "source": [
    "for i, dataset_i in enumerate([1550, 1600, 1650, 1700,1950]):\n",
    "    path = DatasetPath.get_dataset(dataset_i // 50)\n",
    "    for file in os.listdir(path.image_path):\n",
    "        files[i].add(file)"
   ]
  },
  {
   "cell_type": "code",
   "execution_count": null,
   "metadata": {
    "pycharm": {
     "name": "#%%\n"
    }
   },
   "outputs": [],
   "source": [
    "arg_list = []\n",
    "for i, dataset_i in enumerate([1550, 1600, 1650, 1700,1950]):\n",
    "    path = DatasetPath.get_dataset(dataset_i // 50)\n",
    "    for j, annotation_path in enumerate(path.annotations_paths()):\n",
    "        d = pd.read_csv(annotation_path)\n",
    "        for row in d.itertuples():\n",
    "            if row.image_name.split('/')[-1] not in files[i]:\n",
    "                \n",
    "                arg_list.append((dataset_i+j, annotation_path, row.Index))"
   ]
  },
  {
   "cell_type": "code",
   "execution_count": null,
   "metadata": {
    "pycharm": {
     "name": "#%%\n"
    }
   },
   "outputs": [],
   "source": [
    "arg_list"
   ]
  },
  {
   "cell_type": "code",
   "execution_count": null,
   "metadata": {
    "pycharm": {
     "name": "#%%\n"
    }
   },
   "outputs": [],
   "source": [
    "my_env = os.environ.copy()\n",
    "my_env[\"CUDA_VISIBLE_DEVICES\"] = \"6\"\n",
    "for arg_item in tqdm.tqdm(arg_list):\n",
    "    a = [\n",
    "        '/home/avic/blender',\n",
    "        '-b',\n",
    "        '-noaudio',\n",
    "        '-P',\n",
    "        '/home/avic/Rotation-Generalization/render/rerender_image.py',\n",
    "        str(arg_item[0]),\n",
    "        arg_item[1],\n",
    "        str(arg_item[2])\n",
    "    ]\n",
    "#     print(subprocess.run(f'/home/avic/blender -b -noaudio -P /home/avic/Rotation-Generalization/render/rerender_image.py {arg_item[0]} {arg_item[1]} {arg_item[2]}', env=my_env))\n",
    "    result = subprocess.run(a, env=my_env, stdout=subprocess.PIPE, stderr=subprocess.PIPE)\n",
    "    print(result.stdout.decode('utf-8'))\n",
    "    print(result.stderr.decode('utf-8'))"
   ]
  },
  {
   "cell_type": "code",
   "execution_count": null,
   "metadata": {
    "pycharm": {
     "name": "#%%\n"
    }
   },
   "outputs": [],
   "source": []
  }
 ],
 "metadata": {
  "kernelspec": {
   "display_name": "Python 3",
   "language": "python",
   "name": "python3"
  },
  "language_info": {
   "codemirror_mode": {
    "name": "ipython",
    "version": 3
   },
   "file_extension": ".py",
   "mimetype": "text/x-python",
   "name": "python",
   "nbconvert_exporter": "python",
   "pygments_lexer": "ipython3",
   "version": "3.7.4"
  }
 },
 "nbformat": 4,
 "nbformat_minor": 4
}
